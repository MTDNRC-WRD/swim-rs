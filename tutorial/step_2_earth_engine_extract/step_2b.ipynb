{
 "cells": [
  {
   "cell_type": "markdown",
   "metadata": {},
   "source": [
    "# More Earth Engine: Irrigation, Snow, and Soils Data Extraction\n",
    "\n",
    "In this notebook, we will:\n",
    "1. Use the `sample_snodas_swe` function to perform snodas snow water equivalent (SWE) extraction.\n",
    "2. Use the `get_irrigation` function to perform irrigation mask extraction.\n",
    "3. Use the `get_ssurgo` function to perform soils extraction.\n",
    "\n",
    "Ensure that the Earth Engine Python API is authenticated and configured, and that the Earth Engine CLI is available in your environment."
   ]
  },
  {
   "cell_type": "markdown",
   "metadata": {},
   "source": [
    "## 1. Import Libraries and Authorize Earth Engine"
   ]
  },
  {
   "cell_type": "code",
   "execution_count": 1,
   "metadata": {
    "jupyter": {
     "is_executing": true
    }
   },
   "outputs": [
    {
     "name": "stdout",
     "output_type": "stream",
     "text": [
      "Authorized\n"
     ]
    }
   ],
   "source": [
    "import os\n",
    "import sys\n",
    "import ee\n",
    "\n",
    "# append the project path to the environment (mine is in /home/dgketchum/PycharmProjects')\n",
    "root = '/home/dgketchum/PycharmProjects/swim-rs'\n",
    "sys.path.append(root)\n",
    "\n",
    "from data_extraction.ee.snodas_export import sample_snodas_swe\n",
    "from data_extraction.snodas.snodas import create_timeseries_json\n",
    "from data_extraction.ee.ee_props import get_irrigation, get_ssurgo\n",
    "from data_extraction.ee.ee_utils import is_authorized\n",
    "from utils.google_bucket import list_and_copy_gcs_bucket\n",
    "\n",
    "sys.path.insert(0, os.path.abspath('../..'))\n",
    "sys.setrecursionlimit(5000)\n",
    "\n",
    "if not is_authorized():\n",
    "    ee.Authenticate()\n",
    "ee.Initialize()"
   ]
  },
  {
   "cell_type": "markdown",
   "metadata": {},
   "source": [
    "## 1: Extract Raster Data\n",
    "\n",
    "Here, we're going to use functions with a similar workflow to those we used to get ETf and NDVI data from Earth Engine.\n",
    "\n",
    "For the raster data extraction, there are three functions we need to run:\n",
    "\n",
    "*   **`sample_snodas_swe`**:\n",
    "    *   This function iterates over the daily SNODAS images in Earth Engine, extracting mean SWE for each sample plot for each day, September through May.\n",
    "    *   https://nsidc.org/data/g02158/versions/1\n",
    "    *   We will follow up and write the SNODAS data to per-field files with `snodas_processing`.\n",
    "*   **`get_irrigation`**:\n",
    "    *   This function uses IrrMapper to get statistics about the irrigation status of each plot for each year, including the fraction of the plot that was irrigated.\n",
    "    *   https://www.mdpi.com/2072-4292/12/14/2328\n",
    "*   **`get_ssurgo`**:\n",
    "    *   This function uses data summarized and put in a public Earth Engine asset by Charles Morton at Desert Research Institute from SSURGO (https://www.nrcs.usda.gov/resources/data-and-reports/soil-survey-geographic-database-ssurgo) to summarize plot-scale soil texture and hydraulic properties used by SWIM-RS.\n",
    " \n",
    "Note: The module carrying `get_irrigation` and `get_ssurgo` also has functions for extracting vegetation height (useful for modeling natural/perennial vegetated sample plots; `get_landfire`), and for crop type (useful for sampling management scenarios; `get_cdl`). These have the same function call argruments and the same output format as with `get_irrigation` or `get_ssurgo`."
   ]
  },
  {
   "cell_type": "code",
   "execution_count": 2,
   "metadata": {},
   "outputs": [],
   "source": [
    "ee_account = 'ee-dgketchum'\n",
    "\n",
    "# Define Constants and Remote Sensing Data Paths\n",
    "# TODO: remove hard-coded collecitons and use variables defined here\n",
    "SWE = 'projects/earthengine-legacy/assets/projects/climate-engine/snodas/daily'\n",
    "\n",
    "bucket = 'wudr'\n",
    "fields = 'projects/ee-dgketchum/assets/swim/mt_sid_boulder'\n",
    "\n",
    "command = '/home/dgketchum/google-cloud-sdk/bin/gsutil'\n",
    "\n",
    "# We must specify which column in the shapefile represents the field's unique ID, in this case it is 'FID_1'\n",
    "FEATURE_ID = 'FID_1'"
   ]
  },
  {
   "cell_type": "markdown",
   "metadata": {},
   "source": [
    "### SWE Data\n",
    "\n",
    "Notes\n",
    "- Ensure that your Cloud Storage bucket has the correct permissions for Earth Engine to write to it.\n",
    "- This will produce a monthly dataset for Sep - May, regardless of SWE status at the sample plots."
   ]
  },
  {
   "cell_type": "code",
   "execution_count": 3,
   "metadata": {},
   "outputs": [],
   "source": [
    "# let's send all the data we get to our tutorial directories\n",
    "snow_dst = os.path.join(root, 'tutorial/step_2_earth_engine_extract/snodas/extracts')\n",
    "if not os.path.isdir(snow_dst):\n",
    "    os.mkdir(snow_dst)"
   ]
  },
  {
   "cell_type": "code",
   "execution_count": null,
   "metadata": {},
   "outputs": [],
   "source": [
    "# Here, we run the sample_snodas_swe function on the uploaded asset.\n",
    "# Note we use 'check_dir' to check if it's already written to the directory, and 'overwrite=False' so we don't write it again if it is.\n",
    "sample_snodas_swe(fields, bucket, debug=False, check_dir=snow_dst, overwrite=False, feature_id=FEATURE_ID)"
   ]
  },
  {
   "cell_type": "markdown",
   "metadata": {},
   "source": [
    "Copy the data to the local machine once the processing is complete, as with the remote sensing data."
   ]
  },
  {
   "cell_type": "code",
   "execution_count": 4,
   "metadata": {
    "scrolled": true
   },
   "outputs": [
    {
     "name": "stdout",
     "output_type": "stream",
     "text": [
      "/home/dgketchum/PycharmProjects/swim-rs/tutorial/step_2_earth_engine_extract/snodas/extracts/swe_2004_01.csv exists, skipping\n",
      "/home/dgketchum/PycharmProjects/swim-rs/tutorial/step_2_earth_engine_extract/snodas/extracts/swe_2004_02.csv exists, skipping\n",
      "/home/dgketchum/PycharmProjects/swim-rs/tutorial/step_2_earth_engine_extract/snodas/extracts/swe_2004_03.csv exists, skipping\n",
      "/home/dgketchum/PycharmProjects/swim-rs/tutorial/step_2_earth_engine_extract/snodas/extracts/swe_2004_04.csv exists, skipping\n",
      "/home/dgketchum/PycharmProjects/swim-rs/tutorial/step_2_earth_engine_extract/snodas/extracts/swe_2004_05.csv exists, skipping\n",
      "/home/dgketchum/PycharmProjects/swim-rs/tutorial/step_2_earth_engine_extract/snodas/extracts/swe_2004_06.csv exists, skipping\n",
      "/home/dgketchum/PycharmProjects/swim-rs/tutorial/step_2_earth_engine_extract/snodas/extracts/swe_2004_07.csv exists, skipping\n",
      "/home/dgketchum/PycharmProjects/swim-rs/tutorial/step_2_earth_engine_extract/snodas/extracts/swe_2004_08.csv exists, skipping\n",
      "/home/dgketchum/PycharmProjects/swim-rs/tutorial/step_2_earth_engine_extract/snodas/extracts/swe_2004_09.csv exists, skipping\n",
      "/home/dgketchum/PycharmProjects/swim-rs/tutorial/step_2_earth_engine_extract/snodas/extracts/swe_2004_10.csv exists, skipping\n",
      "/home/dgketchum/PycharmProjects/swim-rs/tutorial/step_2_earth_engine_extract/snodas/extracts/swe_2004_11.csv exists, skipping\n",
      "/home/dgketchum/PycharmProjects/swim-rs/tutorial/step_2_earth_engine_extract/snodas/extracts/swe_2004_12.csv exists, skipping\n",
      "/home/dgketchum/PycharmProjects/swim-rs/tutorial/step_2_earth_engine_extract/snodas/extracts/swe_2005_01.csv exists, skipping\n",
      "/home/dgketchum/PycharmProjects/swim-rs/tutorial/step_2_earth_engine_extract/snodas/extracts/swe_2005_02.csv exists, skipping\n",
      "/home/dgketchum/PycharmProjects/swim-rs/tutorial/step_2_earth_engine_extract/snodas/extracts/swe_2005_03.csv exists, skipping\n",
      "/home/dgketchum/PycharmProjects/swim-rs/tutorial/step_2_earth_engine_extract/snodas/extracts/swe_2005_04.csv exists, skipping\n",
      "/home/dgketchum/PycharmProjects/swim-rs/tutorial/step_2_earth_engine_extract/snodas/extracts/swe_2005_05.csv exists, skipping\n",
      "/home/dgketchum/PycharmProjects/swim-rs/tutorial/step_2_earth_engine_extract/snodas/extracts/swe_2005_06.csv exists, skipping\n",
      "/home/dgketchum/PycharmProjects/swim-rs/tutorial/step_2_earth_engine_extract/snodas/extracts/swe_2005_07.csv exists, skipping\n",
      "/home/dgketchum/PycharmProjects/swim-rs/tutorial/step_2_earth_engine_extract/snodas/extracts/swe_2005_08.csv exists, skipping\n",
      "/home/dgketchum/PycharmProjects/swim-rs/tutorial/step_2_earth_engine_extract/snodas/extracts/swe_2005_09.csv exists, skipping\n",
      "/home/dgketchum/PycharmProjects/swim-rs/tutorial/step_2_earth_engine_extract/snodas/extracts/swe_2005_10.csv exists, skipping\n",
      "/home/dgketchum/PycharmProjects/swim-rs/tutorial/step_2_earth_engine_extract/snodas/extracts/swe_2005_11.csv exists, skipping\n",
      "/home/dgketchum/PycharmProjects/swim-rs/tutorial/step_2_earth_engine_extract/snodas/extracts/swe_2005_12.csv exists, skipping\n",
      "/home/dgketchum/PycharmProjects/swim-rs/tutorial/step_2_earth_engine_extract/snodas/extracts/swe_2006_01.csv exists, skipping\n",
      "/home/dgketchum/PycharmProjects/swim-rs/tutorial/step_2_earth_engine_extract/snodas/extracts/swe_2006_02.csv exists, skipping\n",
      "/home/dgketchum/PycharmProjects/swim-rs/tutorial/step_2_earth_engine_extract/snodas/extracts/swe_2006_03.csv exists, skipping\n",
      "/home/dgketchum/PycharmProjects/swim-rs/tutorial/step_2_earth_engine_extract/snodas/extracts/swe_2006_04.csv exists, skipping\n",
      "/home/dgketchum/PycharmProjects/swim-rs/tutorial/step_2_earth_engine_extract/snodas/extracts/swe_2006_05.csv exists, skipping\n",
      "/home/dgketchum/PycharmProjects/swim-rs/tutorial/step_2_earth_engine_extract/snodas/extracts/swe_2006_06.csv exists, skipping\n",
      "/home/dgketchum/PycharmProjects/swim-rs/tutorial/step_2_earth_engine_extract/snodas/extracts/swe_2006_07.csv exists, skipping\n",
      "/home/dgketchum/PycharmProjects/swim-rs/tutorial/step_2_earth_engine_extract/snodas/extracts/swe_2006_08.csv exists, skipping\n",
      "/home/dgketchum/PycharmProjects/swim-rs/tutorial/step_2_earth_engine_extract/snodas/extracts/swe_2006_09.csv exists, skipping\n",
      "/home/dgketchum/PycharmProjects/swim-rs/tutorial/step_2_earth_engine_extract/snodas/extracts/swe_2006_10.csv exists, skipping\n",
      "/home/dgketchum/PycharmProjects/swim-rs/tutorial/step_2_earth_engine_extract/snodas/extracts/swe_2006_11.csv exists, skipping\n",
      "/home/dgketchum/PycharmProjects/swim-rs/tutorial/step_2_earth_engine_extract/snodas/extracts/swe_2006_12.csv exists, skipping\n",
      "/home/dgketchum/PycharmProjects/swim-rs/tutorial/step_2_earth_engine_extract/snodas/extracts/swe_2007_01.csv exists, skipping\n",
      "/home/dgketchum/PycharmProjects/swim-rs/tutorial/step_2_earth_engine_extract/snodas/extracts/swe_2007_02.csv exists, skipping\n",
      "/home/dgketchum/PycharmProjects/swim-rs/tutorial/step_2_earth_engine_extract/snodas/extracts/swe_2007_03.csv exists, skipping\n",
      "/home/dgketchum/PycharmProjects/swim-rs/tutorial/step_2_earth_engine_extract/snodas/extracts/swe_2007_04.csv exists, skipping\n",
      "/home/dgketchum/PycharmProjects/swim-rs/tutorial/step_2_earth_engine_extract/snodas/extracts/swe_2007_05.csv exists, skipping\n",
      "/home/dgketchum/PycharmProjects/swim-rs/tutorial/step_2_earth_engine_extract/snodas/extracts/swe_2007_06.csv exists, skipping\n",
      "/home/dgketchum/PycharmProjects/swim-rs/tutorial/step_2_earth_engine_extract/snodas/extracts/swe_2007_07.csv exists, skipping\n",
      "/home/dgketchum/PycharmProjects/swim-rs/tutorial/step_2_earth_engine_extract/snodas/extracts/swe_2007_08.csv exists, skipping\n",
      "/home/dgketchum/PycharmProjects/swim-rs/tutorial/step_2_earth_engine_extract/snodas/extracts/swe_2007_09.csv exists, skipping\n",
      "/home/dgketchum/PycharmProjects/swim-rs/tutorial/step_2_earth_engine_extract/snodas/extracts/swe_2007_10.csv exists, skipping\n",
      "/home/dgketchum/PycharmProjects/swim-rs/tutorial/step_2_earth_engine_extract/snodas/extracts/swe_2007_11.csv exists, skipping\n",
      "/home/dgketchum/PycharmProjects/swim-rs/tutorial/step_2_earth_engine_extract/snodas/extracts/swe_2007_12.csv exists, skipping\n",
      "/home/dgketchum/PycharmProjects/swim-rs/tutorial/step_2_earth_engine_extract/snodas/extracts/swe_2008_01.csv exists, skipping\n",
      "/home/dgketchum/PycharmProjects/swim-rs/tutorial/step_2_earth_engine_extract/snodas/extracts/swe_2008_02.csv exists, skipping\n",
      "/home/dgketchum/PycharmProjects/swim-rs/tutorial/step_2_earth_engine_extract/snodas/extracts/swe_2008_03.csv exists, skipping\n",
      "/home/dgketchum/PycharmProjects/swim-rs/tutorial/step_2_earth_engine_extract/snodas/extracts/swe_2008_04.csv exists, skipping\n",
      "/home/dgketchum/PycharmProjects/swim-rs/tutorial/step_2_earth_engine_extract/snodas/extracts/swe_2008_05.csv exists, skipping\n",
      "/home/dgketchum/PycharmProjects/swim-rs/tutorial/step_2_earth_engine_extract/snodas/extracts/swe_2008_06.csv exists, skipping\n",
      "/home/dgketchum/PycharmProjects/swim-rs/tutorial/step_2_earth_engine_extract/snodas/extracts/swe_2008_07.csv exists, skipping\n",
      "/home/dgketchum/PycharmProjects/swim-rs/tutorial/step_2_earth_engine_extract/snodas/extracts/swe_2008_08.csv exists, skipping\n",
      "/home/dgketchum/PycharmProjects/swim-rs/tutorial/step_2_earth_engine_extract/snodas/extracts/swe_2008_09.csv exists, skipping\n",
      "/home/dgketchum/PycharmProjects/swim-rs/tutorial/step_2_earth_engine_extract/snodas/extracts/swe_2008_10.csv exists, skipping\n",
      "/home/dgketchum/PycharmProjects/swim-rs/tutorial/step_2_earth_engine_extract/snodas/extracts/swe_2008_11.csv exists, skipping\n",
      "/home/dgketchum/PycharmProjects/swim-rs/tutorial/step_2_earth_engine_extract/snodas/extracts/swe_2008_12.csv exists, skipping\n",
      "/home/dgketchum/PycharmProjects/swim-rs/tutorial/step_2_earth_engine_extract/snodas/extracts/swe_2009_01.csv exists, skipping\n",
      "/home/dgketchum/PycharmProjects/swim-rs/tutorial/step_2_earth_engine_extract/snodas/extracts/swe_2009_02.csv exists, skipping\n",
      "/home/dgketchum/PycharmProjects/swim-rs/tutorial/step_2_earth_engine_extract/snodas/extracts/swe_2009_03.csv exists, skipping\n",
      "/home/dgketchum/PycharmProjects/swim-rs/tutorial/step_2_earth_engine_extract/snodas/extracts/swe_2009_04.csv exists, skipping\n",
      "/home/dgketchum/PycharmProjects/swim-rs/tutorial/step_2_earth_engine_extract/snodas/extracts/swe_2009_05.csv exists, skipping\n",
      "/home/dgketchum/PycharmProjects/swim-rs/tutorial/step_2_earth_engine_extract/snodas/extracts/swe_2009_06.csv exists, skipping\n",
      "/home/dgketchum/PycharmProjects/swim-rs/tutorial/step_2_earth_engine_extract/snodas/extracts/swe_2009_07.csv exists, skipping\n",
      "/home/dgketchum/PycharmProjects/swim-rs/tutorial/step_2_earth_engine_extract/snodas/extracts/swe_2009_08.csv exists, skipping\n",
      "/home/dgketchum/PycharmProjects/swim-rs/tutorial/step_2_earth_engine_extract/snodas/extracts/swe_2009_09.csv exists, skipping\n",
      "/home/dgketchum/PycharmProjects/swim-rs/tutorial/step_2_earth_engine_extract/snodas/extracts/swe_2009_10.csv exists, skipping\n",
      "/home/dgketchum/PycharmProjects/swim-rs/tutorial/step_2_earth_engine_extract/snodas/extracts/swe_2009_11.csv exists, skipping\n",
      "/home/dgketchum/PycharmProjects/swim-rs/tutorial/step_2_earth_engine_extract/snodas/extracts/swe_2009_12.csv exists, skipping\n",
      "/home/dgketchum/PycharmProjects/swim-rs/tutorial/step_2_earth_engine_extract/snodas/extracts/swe_2010_01.csv exists, skipping\n",
      "/home/dgketchum/PycharmProjects/swim-rs/tutorial/step_2_earth_engine_extract/snodas/extracts/swe_2010_02.csv exists, skipping\n",
      "/home/dgketchum/PycharmProjects/swim-rs/tutorial/step_2_earth_engine_extract/snodas/extracts/swe_2010_03.csv exists, skipping\n",
      "/home/dgketchum/PycharmProjects/swim-rs/tutorial/step_2_earth_engine_extract/snodas/extracts/swe_2010_04.csv exists, skipping\n",
      "/home/dgketchum/PycharmProjects/swim-rs/tutorial/step_2_earth_engine_extract/snodas/extracts/swe_2010_05.csv exists, skipping\n",
      "/home/dgketchum/PycharmProjects/swim-rs/tutorial/step_2_earth_engine_extract/snodas/extracts/swe_2010_06.csv exists, skipping\n",
      "/home/dgketchum/PycharmProjects/swim-rs/tutorial/step_2_earth_engine_extract/snodas/extracts/swe_2010_07.csv exists, skipping\n",
      "/home/dgketchum/PycharmProjects/swim-rs/tutorial/step_2_earth_engine_extract/snodas/extracts/swe_2010_08.csv exists, skipping\n",
      "/home/dgketchum/PycharmProjects/swim-rs/tutorial/step_2_earth_engine_extract/snodas/extracts/swe_2010_09.csv exists, skipping\n",
      "/home/dgketchum/PycharmProjects/swim-rs/tutorial/step_2_earth_engine_extract/snodas/extracts/swe_2010_10.csv exists, skipping\n",
      "/home/dgketchum/PycharmProjects/swim-rs/tutorial/step_2_earth_engine_extract/snodas/extracts/swe_2010_11.csv exists, skipping\n",
      "/home/dgketchum/PycharmProjects/swim-rs/tutorial/step_2_earth_engine_extract/snodas/extracts/swe_2010_12.csv exists, skipping\n",
      "/home/dgketchum/PycharmProjects/swim-rs/tutorial/step_2_earth_engine_extract/snodas/extracts/swe_2011_01.csv exists, skipping\n",
      "/home/dgketchum/PycharmProjects/swim-rs/tutorial/step_2_earth_engine_extract/snodas/extracts/swe_2011_02.csv exists, skipping\n",
      "/home/dgketchum/PycharmProjects/swim-rs/tutorial/step_2_earth_engine_extract/snodas/extracts/swe_2011_03.csv exists, skipping\n",
      "/home/dgketchum/PycharmProjects/swim-rs/tutorial/step_2_earth_engine_extract/snodas/extracts/swe_2011_04.csv exists, skipping\n",
      "/home/dgketchum/PycharmProjects/swim-rs/tutorial/step_2_earth_engine_extract/snodas/extracts/swe_2011_05.csv exists, skipping\n",
      "/home/dgketchum/PycharmProjects/swim-rs/tutorial/step_2_earth_engine_extract/snodas/extracts/swe_2011_06.csv exists, skipping\n",
      "/home/dgketchum/PycharmProjects/swim-rs/tutorial/step_2_earth_engine_extract/snodas/extracts/swe_2011_07.csv exists, skipping\n",
      "/home/dgketchum/PycharmProjects/swim-rs/tutorial/step_2_earth_engine_extract/snodas/extracts/swe_2011_08.csv exists, skipping\n",
      "/home/dgketchum/PycharmProjects/swim-rs/tutorial/step_2_earth_engine_extract/snodas/extracts/swe_2011_09.csv exists, skipping\n",
      "/home/dgketchum/PycharmProjects/swim-rs/tutorial/step_2_earth_engine_extract/snodas/extracts/swe_2011_10.csv exists, skipping\n",
      "/home/dgketchum/PycharmProjects/swim-rs/tutorial/step_2_earth_engine_extract/snodas/extracts/swe_2011_11.csv exists, skipping\n",
      "/home/dgketchum/PycharmProjects/swim-rs/tutorial/step_2_earth_engine_extract/snodas/extracts/swe_2011_12.csv exists, skipping\n",
      "/home/dgketchum/PycharmProjects/swim-rs/tutorial/step_2_earth_engine_extract/snodas/extracts/swe_2012_01.csv exists, skipping\n",
      "/home/dgketchum/PycharmProjects/swim-rs/tutorial/step_2_earth_engine_extract/snodas/extracts/swe_2012_02.csv exists, skipping\n",
      "/home/dgketchum/PycharmProjects/swim-rs/tutorial/step_2_earth_engine_extract/snodas/extracts/swe_2012_03.csv exists, skipping\n",
      "/home/dgketchum/PycharmProjects/swim-rs/tutorial/step_2_earth_engine_extract/snodas/extracts/swe_2012_04.csv exists, skipping\n",
      "/home/dgketchum/PycharmProjects/swim-rs/tutorial/step_2_earth_engine_extract/snodas/extracts/swe_2012_05.csv exists, skipping\n",
      "/home/dgketchum/PycharmProjects/swim-rs/tutorial/step_2_earth_engine_extract/snodas/extracts/swe_2012_06.csv exists, skipping\n",
      "/home/dgketchum/PycharmProjects/swim-rs/tutorial/step_2_earth_engine_extract/snodas/extracts/swe_2012_07.csv exists, skipping\n",
      "/home/dgketchum/PycharmProjects/swim-rs/tutorial/step_2_earth_engine_extract/snodas/extracts/swe_2012_08.csv exists, skipping\n",
      "/home/dgketchum/PycharmProjects/swim-rs/tutorial/step_2_earth_engine_extract/snodas/extracts/swe_2012_09.csv exists, skipping\n",
      "/home/dgketchum/PycharmProjects/swim-rs/tutorial/step_2_earth_engine_extract/snodas/extracts/swe_2012_10.csv exists, skipping\n",
      "/home/dgketchum/PycharmProjects/swim-rs/tutorial/step_2_earth_engine_extract/snodas/extracts/swe_2012_11.csv exists, skipping\n",
      "/home/dgketchum/PycharmProjects/swim-rs/tutorial/step_2_earth_engine_extract/snodas/extracts/swe_2012_12.csv exists, skipping\n",
      "/home/dgketchum/PycharmProjects/swim-rs/tutorial/step_2_earth_engine_extract/snodas/extracts/swe_2013_01.csv exists, skipping\n",
      "/home/dgketchum/PycharmProjects/swim-rs/tutorial/step_2_earth_engine_extract/snodas/extracts/swe_2013_02.csv exists, skipping\n",
      "/home/dgketchum/PycharmProjects/swim-rs/tutorial/step_2_earth_engine_extract/snodas/extracts/swe_2013_03.csv exists, skipping\n",
      "/home/dgketchum/PycharmProjects/swim-rs/tutorial/step_2_earth_engine_extract/snodas/extracts/swe_2013_04.csv exists, skipping\n",
      "/home/dgketchum/PycharmProjects/swim-rs/tutorial/step_2_earth_engine_extract/snodas/extracts/swe_2013_05.csv exists, skipping\n",
      "/home/dgketchum/PycharmProjects/swim-rs/tutorial/step_2_earth_engine_extract/snodas/extracts/swe_2013_06.csv exists, skipping\n",
      "/home/dgketchum/PycharmProjects/swim-rs/tutorial/step_2_earth_engine_extract/snodas/extracts/swe_2013_07.csv exists, skipping\n",
      "/home/dgketchum/PycharmProjects/swim-rs/tutorial/step_2_earth_engine_extract/snodas/extracts/swe_2013_08.csv exists, skipping\n",
      "/home/dgketchum/PycharmProjects/swim-rs/tutorial/step_2_earth_engine_extract/snodas/extracts/swe_2013_09.csv exists, skipping\n",
      "/home/dgketchum/PycharmProjects/swim-rs/tutorial/step_2_earth_engine_extract/snodas/extracts/swe_2013_10.csv exists, skipping\n",
      "/home/dgketchum/PycharmProjects/swim-rs/tutorial/step_2_earth_engine_extract/snodas/extracts/swe_2013_11.csv exists, skipping\n",
      "/home/dgketchum/PycharmProjects/swim-rs/tutorial/step_2_earth_engine_extract/snodas/extracts/swe_2013_12.csv exists, skipping\n",
      "/home/dgketchum/PycharmProjects/swim-rs/tutorial/step_2_earth_engine_extract/snodas/extracts/swe_2014_01.csv exists, skipping\n",
      "/home/dgketchum/PycharmProjects/swim-rs/tutorial/step_2_earth_engine_extract/snodas/extracts/swe_2014_02.csv exists, skipping\n",
      "/home/dgketchum/PycharmProjects/swim-rs/tutorial/step_2_earth_engine_extract/snodas/extracts/swe_2014_03.csv exists, skipping\n",
      "/home/dgketchum/PycharmProjects/swim-rs/tutorial/step_2_earth_engine_extract/snodas/extracts/swe_2014_04.csv exists, skipping\n",
      "/home/dgketchum/PycharmProjects/swim-rs/tutorial/step_2_earth_engine_extract/snodas/extracts/swe_2014_05.csv exists, skipping\n",
      "/home/dgketchum/PycharmProjects/swim-rs/tutorial/step_2_earth_engine_extract/snodas/extracts/swe_2014_06.csv exists, skipping\n",
      "/home/dgketchum/PycharmProjects/swim-rs/tutorial/step_2_earth_engine_extract/snodas/extracts/swe_2014_07.csv exists, skipping\n",
      "/home/dgketchum/PycharmProjects/swim-rs/tutorial/step_2_earth_engine_extract/snodas/extracts/swe_2014_08.csv exists, skipping\n",
      "/home/dgketchum/PycharmProjects/swim-rs/tutorial/step_2_earth_engine_extract/snodas/extracts/swe_2014_09.csv exists, skipping\n",
      "/home/dgketchum/PycharmProjects/swim-rs/tutorial/step_2_earth_engine_extract/snodas/extracts/swe_2014_10.csv exists, skipping\n",
      "/home/dgketchum/PycharmProjects/swim-rs/tutorial/step_2_earth_engine_extract/snodas/extracts/swe_2014_11.csv exists, skipping\n",
      "/home/dgketchum/PycharmProjects/swim-rs/tutorial/step_2_earth_engine_extract/snodas/extracts/swe_2014_12.csv exists, skipping\n",
      "/home/dgketchum/PycharmProjects/swim-rs/tutorial/step_2_earth_engine_extract/snodas/extracts/swe_2015_01.csv exists, skipping\n",
      "/home/dgketchum/PycharmProjects/swim-rs/tutorial/step_2_earth_engine_extract/snodas/extracts/swe_2015_02.csv exists, skipping\n",
      "/home/dgketchum/PycharmProjects/swim-rs/tutorial/step_2_earth_engine_extract/snodas/extracts/swe_2015_03.csv exists, skipping\n",
      "/home/dgketchum/PycharmProjects/swim-rs/tutorial/step_2_earth_engine_extract/snodas/extracts/swe_2015_04.csv exists, skipping\n",
      "/home/dgketchum/PycharmProjects/swim-rs/tutorial/step_2_earth_engine_extract/snodas/extracts/swe_2015_05.csv exists, skipping\n",
      "/home/dgketchum/PycharmProjects/swim-rs/tutorial/step_2_earth_engine_extract/snodas/extracts/swe_2015_06.csv exists, skipping\n",
      "/home/dgketchum/PycharmProjects/swim-rs/tutorial/step_2_earth_engine_extract/snodas/extracts/swe_2015_07.csv exists, skipping\n",
      "/home/dgketchum/PycharmProjects/swim-rs/tutorial/step_2_earth_engine_extract/snodas/extracts/swe_2015_08.csv exists, skipping\n",
      "/home/dgketchum/PycharmProjects/swim-rs/tutorial/step_2_earth_engine_extract/snodas/extracts/swe_2015_09.csv exists, skipping\n",
      "/home/dgketchum/PycharmProjects/swim-rs/tutorial/step_2_earth_engine_extract/snodas/extracts/swe_2015_10.csv exists, skipping\n",
      "/home/dgketchum/PycharmProjects/swim-rs/tutorial/step_2_earth_engine_extract/snodas/extracts/swe_2015_11.csv exists, skipping\n",
      "/home/dgketchum/PycharmProjects/swim-rs/tutorial/step_2_earth_engine_extract/snodas/extracts/swe_2015_12.csv exists, skipping\n",
      "/home/dgketchum/PycharmProjects/swim-rs/tutorial/step_2_earth_engine_extract/snodas/extracts/swe_2016_01.csv exists, skipping\n",
      "/home/dgketchum/PycharmProjects/swim-rs/tutorial/step_2_earth_engine_extract/snodas/extracts/swe_2016_02.csv exists, skipping\n",
      "/home/dgketchum/PycharmProjects/swim-rs/tutorial/step_2_earth_engine_extract/snodas/extracts/swe_2016_03.csv exists, skipping\n",
      "/home/dgketchum/PycharmProjects/swim-rs/tutorial/step_2_earth_engine_extract/snodas/extracts/swe_2016_04.csv exists, skipping\n",
      "/home/dgketchum/PycharmProjects/swim-rs/tutorial/step_2_earth_engine_extract/snodas/extracts/swe_2016_05.csv exists, skipping\n",
      "/home/dgketchum/PycharmProjects/swim-rs/tutorial/step_2_earth_engine_extract/snodas/extracts/swe_2016_06.csv exists, skipping\n",
      "/home/dgketchum/PycharmProjects/swim-rs/tutorial/step_2_earth_engine_extract/snodas/extracts/swe_2016_07.csv exists, skipping\n",
      "/home/dgketchum/PycharmProjects/swim-rs/tutorial/step_2_earth_engine_extract/snodas/extracts/swe_2016_08.csv exists, skipping\n",
      "/home/dgketchum/PycharmProjects/swim-rs/tutorial/step_2_earth_engine_extract/snodas/extracts/swe_2016_09.csv exists, skipping\n",
      "/home/dgketchum/PycharmProjects/swim-rs/tutorial/step_2_earth_engine_extract/snodas/extracts/swe_2016_10.csv exists, skipping\n",
      "/home/dgketchum/PycharmProjects/swim-rs/tutorial/step_2_earth_engine_extract/snodas/extracts/swe_2016_11.csv exists, skipping\n",
      "/home/dgketchum/PycharmProjects/swim-rs/tutorial/step_2_earth_engine_extract/snodas/extracts/swe_2016_12.csv exists, skipping\n",
      "/home/dgketchum/PycharmProjects/swim-rs/tutorial/step_2_earth_engine_extract/snodas/extracts/swe_2017_01.csv exists, skipping\n",
      "/home/dgketchum/PycharmProjects/swim-rs/tutorial/step_2_earth_engine_extract/snodas/extracts/swe_2017_02.csv exists, skipping\n",
      "/home/dgketchum/PycharmProjects/swim-rs/tutorial/step_2_earth_engine_extract/snodas/extracts/swe_2017_03.csv exists, skipping\n",
      "/home/dgketchum/PycharmProjects/swim-rs/tutorial/step_2_earth_engine_extract/snodas/extracts/swe_2017_04.csv exists, skipping\n",
      "/home/dgketchum/PycharmProjects/swim-rs/tutorial/step_2_earth_engine_extract/snodas/extracts/swe_2017_05.csv exists, skipping\n",
      "/home/dgketchum/PycharmProjects/swim-rs/tutorial/step_2_earth_engine_extract/snodas/extracts/swe_2017_06.csv exists, skipping\n",
      "/home/dgketchum/PycharmProjects/swim-rs/tutorial/step_2_earth_engine_extract/snodas/extracts/swe_2017_07.csv exists, skipping\n",
      "/home/dgketchum/PycharmProjects/swim-rs/tutorial/step_2_earth_engine_extract/snodas/extracts/swe_2017_08.csv exists, skipping\n",
      "/home/dgketchum/PycharmProjects/swim-rs/tutorial/step_2_earth_engine_extract/snodas/extracts/swe_2017_09.csv exists, skipping\n",
      "/home/dgketchum/PycharmProjects/swim-rs/tutorial/step_2_earth_engine_extract/snodas/extracts/swe_2017_10.csv exists, skipping\n",
      "/home/dgketchum/PycharmProjects/swim-rs/tutorial/step_2_earth_engine_extract/snodas/extracts/swe_2017_11.csv exists, skipping\n",
      "/home/dgketchum/PycharmProjects/swim-rs/tutorial/step_2_earth_engine_extract/snodas/extracts/swe_2017_12.csv exists, skipping\n",
      "/home/dgketchum/PycharmProjects/swim-rs/tutorial/step_2_earth_engine_extract/snodas/extracts/swe_2018_01.csv exists, skipping\n",
      "/home/dgketchum/PycharmProjects/swim-rs/tutorial/step_2_earth_engine_extract/snodas/extracts/swe_2018_02.csv exists, skipping\n",
      "/home/dgketchum/PycharmProjects/swim-rs/tutorial/step_2_earth_engine_extract/snodas/extracts/swe_2018_03.csv exists, skipping\n",
      "/home/dgketchum/PycharmProjects/swim-rs/tutorial/step_2_earth_engine_extract/snodas/extracts/swe_2018_04.csv exists, skipping\n",
      "/home/dgketchum/PycharmProjects/swim-rs/tutorial/step_2_earth_engine_extract/snodas/extracts/swe_2018_05.csv exists, skipping\n",
      "/home/dgketchum/PycharmProjects/swim-rs/tutorial/step_2_earth_engine_extract/snodas/extracts/swe_2018_06.csv exists, skipping\n",
      "/home/dgketchum/PycharmProjects/swim-rs/tutorial/step_2_earth_engine_extract/snodas/extracts/swe_2018_07.csv exists, skipping\n",
      "/home/dgketchum/PycharmProjects/swim-rs/tutorial/step_2_earth_engine_extract/snodas/extracts/swe_2018_08.csv exists, skipping\n",
      "/home/dgketchum/PycharmProjects/swim-rs/tutorial/step_2_earth_engine_extract/snodas/extracts/swe_2018_09.csv exists, skipping\n",
      "/home/dgketchum/PycharmProjects/swim-rs/tutorial/step_2_earth_engine_extract/snodas/extracts/swe_2018_10.csv exists, skipping\n",
      "/home/dgketchum/PycharmProjects/swim-rs/tutorial/step_2_earth_engine_extract/snodas/extracts/swe_2018_11.csv exists, skipping\n",
      "/home/dgketchum/PycharmProjects/swim-rs/tutorial/step_2_earth_engine_extract/snodas/extracts/swe_2018_12.csv exists, skipping\n",
      "/home/dgketchum/PycharmProjects/swim-rs/tutorial/step_2_earth_engine_extract/snodas/extracts/swe_2019_01.csv exists, skipping\n",
      "/home/dgketchum/PycharmProjects/swim-rs/tutorial/step_2_earth_engine_extract/snodas/extracts/swe_2019_02.csv exists, skipping\n",
      "/home/dgketchum/PycharmProjects/swim-rs/tutorial/step_2_earth_engine_extract/snodas/extracts/swe_2019_03.csv exists, skipping\n",
      "/home/dgketchum/PycharmProjects/swim-rs/tutorial/step_2_earth_engine_extract/snodas/extracts/swe_2019_04.csv exists, skipping\n",
      "/home/dgketchum/PycharmProjects/swim-rs/tutorial/step_2_earth_engine_extract/snodas/extracts/swe_2019_05.csv exists, skipping\n",
      "/home/dgketchum/PycharmProjects/swim-rs/tutorial/step_2_earth_engine_extract/snodas/extracts/swe_2019_06.csv exists, skipping\n",
      "/home/dgketchum/PycharmProjects/swim-rs/tutorial/step_2_earth_engine_extract/snodas/extracts/swe_2019_07.csv exists, skipping\n",
      "/home/dgketchum/PycharmProjects/swim-rs/tutorial/step_2_earth_engine_extract/snodas/extracts/swe_2019_08.csv exists, skipping\n",
      "/home/dgketchum/PycharmProjects/swim-rs/tutorial/step_2_earth_engine_extract/snodas/extracts/swe_2019_09.csv exists, skipping\n",
      "/home/dgketchum/PycharmProjects/swim-rs/tutorial/step_2_earth_engine_extract/snodas/extracts/swe_2019_10.csv exists, skipping\n",
      "/home/dgketchum/PycharmProjects/swim-rs/tutorial/step_2_earth_engine_extract/snodas/extracts/swe_2019_11.csv exists, skipping\n",
      "/home/dgketchum/PycharmProjects/swim-rs/tutorial/step_2_earth_engine_extract/snodas/extracts/swe_2019_12.csv exists, skipping\n",
      "/home/dgketchum/PycharmProjects/swim-rs/tutorial/step_2_earth_engine_extract/snodas/extracts/swe_2020_01.csv exists, skipping\n",
      "/home/dgketchum/PycharmProjects/swim-rs/tutorial/step_2_earth_engine_extract/snodas/extracts/swe_2020_02.csv exists, skipping\n",
      "/home/dgketchum/PycharmProjects/swim-rs/tutorial/step_2_earth_engine_extract/snodas/extracts/swe_2020_03.csv exists, skipping\n",
      "/home/dgketchum/PycharmProjects/swim-rs/tutorial/step_2_earth_engine_extract/snodas/extracts/swe_2020_04.csv exists, skipping\n",
      "/home/dgketchum/PycharmProjects/swim-rs/tutorial/step_2_earth_engine_extract/snodas/extracts/swe_2020_05.csv exists, skipping\n",
      "/home/dgketchum/PycharmProjects/swim-rs/tutorial/step_2_earth_engine_extract/snodas/extracts/swe_2020_06.csv exists, skipping\n",
      "/home/dgketchum/PycharmProjects/swim-rs/tutorial/step_2_earth_engine_extract/snodas/extracts/swe_2020_07.csv exists, skipping\n",
      "/home/dgketchum/PycharmProjects/swim-rs/tutorial/step_2_earth_engine_extract/snodas/extracts/swe_2020_08.csv exists, skipping\n",
      "/home/dgketchum/PycharmProjects/swim-rs/tutorial/step_2_earth_engine_extract/snodas/extracts/swe_2020_09.csv exists, skipping\n",
      "/home/dgketchum/PycharmProjects/swim-rs/tutorial/step_2_earth_engine_extract/snodas/extracts/swe_2020_10.csv exists, skipping\n",
      "/home/dgketchum/PycharmProjects/swim-rs/tutorial/step_2_earth_engine_extract/snodas/extracts/swe_2020_11.csv exists, skipping\n",
      "/home/dgketchum/PycharmProjects/swim-rs/tutorial/step_2_earth_engine_extract/snodas/extracts/swe_2020_12.csv exists, skipping\n",
      "/home/dgketchum/PycharmProjects/swim-rs/tutorial/step_2_earth_engine_extract/snodas/extracts/swe_2021_01.csv exists, skipping\n",
      "/home/dgketchum/PycharmProjects/swim-rs/tutorial/step_2_earth_engine_extract/snodas/extracts/swe_2021_02.csv exists, skipping\n",
      "/home/dgketchum/PycharmProjects/swim-rs/tutorial/step_2_earth_engine_extract/snodas/extracts/swe_2021_03.csv exists, skipping\n",
      "/home/dgketchum/PycharmProjects/swim-rs/tutorial/step_2_earth_engine_extract/snodas/extracts/swe_2021_04.csv exists, skipping\n",
      "/home/dgketchum/PycharmProjects/swim-rs/tutorial/step_2_earth_engine_extract/snodas/extracts/swe_2021_05.csv exists, skipping\n",
      "/home/dgketchum/PycharmProjects/swim-rs/tutorial/step_2_earth_engine_extract/snodas/extracts/swe_2021_06.csv exists, skipping\n",
      "/home/dgketchum/PycharmProjects/swim-rs/tutorial/step_2_earth_engine_extract/snodas/extracts/swe_2021_07.csv exists, skipping\n",
      "/home/dgketchum/PycharmProjects/swim-rs/tutorial/step_2_earth_engine_extract/snodas/extracts/swe_2021_08.csv exists, skipping\n",
      "/home/dgketchum/PycharmProjects/swim-rs/tutorial/step_2_earth_engine_extract/snodas/extracts/swe_2021_09.csv exists, skipping\n",
      "/home/dgketchum/PycharmProjects/swim-rs/tutorial/step_2_earth_engine_extract/snodas/extracts/swe_2021_10.csv exists, skipping\n",
      "/home/dgketchum/PycharmProjects/swim-rs/tutorial/step_2_earth_engine_extract/snodas/extracts/swe_2021_11.csv exists, skipping\n",
      "/home/dgketchum/PycharmProjects/swim-rs/tutorial/step_2_earth_engine_extract/snodas/extracts/swe_2021_12.csv exists, skipping\n",
      "/home/dgketchum/PycharmProjects/swim-rs/tutorial/step_2_earth_engine_extract/snodas/extracts/swe_2022_01.csv exists, skipping\n",
      "/home/dgketchum/PycharmProjects/swim-rs/tutorial/step_2_earth_engine_extract/snodas/extracts/swe_2022_02.csv exists, skipping\n",
      "/home/dgketchum/PycharmProjects/swim-rs/tutorial/step_2_earth_engine_extract/snodas/extracts/swe_2022_03.csv exists, skipping\n",
      "/home/dgketchum/PycharmProjects/swim-rs/tutorial/step_2_earth_engine_extract/snodas/extracts/swe_2022_04.csv exists, skipping\n",
      "/home/dgketchum/PycharmProjects/swim-rs/tutorial/step_2_earth_engine_extract/snodas/extracts/swe_2022_05.csv exists, skipping\n",
      "/home/dgketchum/PycharmProjects/swim-rs/tutorial/step_2_earth_engine_extract/snodas/extracts/swe_2022_06.csv exists, skipping\n",
      "/home/dgketchum/PycharmProjects/swim-rs/tutorial/step_2_earth_engine_extract/snodas/extracts/swe_2022_07.csv exists, skipping\n",
      "/home/dgketchum/PycharmProjects/swim-rs/tutorial/step_2_earth_engine_extract/snodas/extracts/swe_2022_08.csv exists, skipping\n",
      "/home/dgketchum/PycharmProjects/swim-rs/tutorial/step_2_earth_engine_extract/snodas/extracts/swe_2022_09.csv exists, skipping\n",
      "/home/dgketchum/PycharmProjects/swim-rs/tutorial/step_2_earth_engine_extract/snodas/extracts/swe_2022_10.csv exists, skipping\n",
      "/home/dgketchum/PycharmProjects/swim-rs/tutorial/step_2_earth_engine_extract/snodas/extracts/swe_2022_11.csv exists, skipping\n",
      "/home/dgketchum/PycharmProjects/swim-rs/tutorial/step_2_earth_engine_extract/snodas/extracts/swe_2022_12.csv exists, skipping\n",
      "/home/dgketchum/PycharmProjects/swim-rs/tutorial/step_2_earth_engine_extract/snodas/extracts/swe_2023_01.csv exists, skipping\n",
      "/home/dgketchum/PycharmProjects/swim-rs/tutorial/step_2_earth_engine_extract/snodas/extracts/swe_2023_02.csv exists, skipping\n",
      "/home/dgketchum/PycharmProjects/swim-rs/tutorial/step_2_earth_engine_extract/snodas/extracts/swe_2023_03.csv exists, skipping\n",
      "/home/dgketchum/PycharmProjects/swim-rs/tutorial/step_2_earth_engine_extract/snodas/extracts/swe_2023_04.csv exists, skipping\n",
      "/home/dgketchum/PycharmProjects/swim-rs/tutorial/step_2_earth_engine_extract/snodas/extracts/swe_2023_05.csv exists, skipping\n",
      "/home/dgketchum/PycharmProjects/swim-rs/tutorial/step_2_earth_engine_extract/snodas/extracts/swe_2023_06.csv exists, skipping\n",
      "/home/dgketchum/PycharmProjects/swim-rs/tutorial/step_2_earth_engine_extract/snodas/extracts/swe_2023_07.csv exists, skipping\n",
      "/home/dgketchum/PycharmProjects/swim-rs/tutorial/step_2_earth_engine_extract/snodas/extracts/swe_2023_08.csv exists, skipping\n",
      "/home/dgketchum/PycharmProjects/swim-rs/tutorial/step_2_earth_engine_extract/snodas/extracts/swe_2023_09.csv exists, skipping\n",
      "/home/dgketchum/PycharmProjects/swim-rs/tutorial/step_2_earth_engine_extract/snodas/extracts/swe_2023_10.csv exists, skipping\n",
      "/home/dgketchum/PycharmProjects/swim-rs/tutorial/step_2_earth_engine_extract/snodas/extracts/swe_2023_11.csv exists, skipping\n",
      "/home/dgketchum/PycharmProjects/swim-rs/tutorial/step_2_earth_engine_extract/snodas/extracts/swe_2023_12.csv exists, skipping\n"
     ]
    }
   ],
   "source": [
    "glob_ = 'swe'\n",
    "list_and_copy_gcs_bucket(command, bucket, snow_dst, glob=glob_, dry_run=False, overwrite=False)"
   ]
  },
  {
   "cell_type": "markdown",
   "metadata": {},
   "source": [
    "We will go ahead and convert the month-by-month files to a per-field daily time series of SWE that we will need in Step 4."
   ]
  },
  {
   "cell_type": "code",
   "execution_count": 4,
   "metadata": {},
   "outputs": [
    {
     "name": "stderr",
     "output_type": "stream",
     "text": [
      "Processing CSV files: 100%|██████████████████| 240/240 [00:01<00:00, 232.27it/s]\n"
     ]
    },
    {
     "name": "stdout",
     "output_type": "stream",
     "text": [
      "wrote /home/dgketchum/PycharmProjects/swim-rs/tutorial/step_2_earth_engine_extract/snodas/snodas.json\n"
     ]
    }
   ],
   "source": [
    "snow_out = os.path.join(root, 'tutorial/step_2_earth_engine_extract/snodas/snodas.json')\n",
    "create_timeseries_json(snow_dst, snow_out, feature_id='FID_1')"
   ]
  },
  {
   "cell_type": "markdown",
   "metadata": {},
   "source": [
    "### Irrigation Data\n",
    "\n",
    "Notes\n",
    "- This will produce an annual dataset of the IrrMapper-estimated irrigated fraction for each sample plot."
   ]
  },
  {
   "cell_type": "code",
   "execution_count": 3,
   "metadata": {},
   "outputs": [],
   "source": [
    "description = 'tutorial_irr'\n",
    "get_irrigation(fields, description, debug=False, selector=FEATURE_ID)"
   ]
  },
  {
   "cell_type": "code",
   "execution_count": 4,
   "metadata": {},
   "outputs": [
    {
     "name": "stdout",
     "output_type": "stream",
     "text": [
      "Copying gs://wudr/tutorial_irr.csv: Copying gs://wudr/tutorial_irr.csv...\n",
      "/ [1 files][ 51.9 KiB/ 51.9 KiB]                                                \n",
      "Operation completed over 1 objects/51.9 KiB.                                     \n",
      "\n",
      "Copied gs://wudr/tutorial_irr.csv to /home/dgketchum/PycharmProjects/swim-rs/tutorial/step_2_earth_engine_extract/properties\n"
     ]
    }
   ],
   "source": [
    "dst = os.path.join(root, 'tutorial/step_2_earth_engine_extract/properties')\n",
    "list_and_copy_gcs_bucket(command, bucket, dst, glob=description, dry_run=False, overwrite=True)"
   ]
  },
  {
   "cell_type": "markdown",
   "metadata": {},
   "source": [
    "### Soils Data\n",
    "\n",
    "Notes\n",
    "- This will produce an single dataset of the SSURGO-estimated soil properties fraction for each sample plot."
   ]
  },
  {
   "cell_type": "code",
   "execution_count": 7,
   "metadata": {},
   "outputs": [
    {
     "name": "stdout",
     "output_type": "stream",
     "text": [
      "tutorial_ssurgo\n"
     ]
    }
   ],
   "source": [
    "description = 'tutorial_ssurgo'\n",
    "get_ssurgo(fields, description, debug=False, selector=FEATURE_ID)"
   ]
  },
  {
   "cell_type": "code",
   "execution_count": 9,
   "metadata": {},
   "outputs": [
    {
     "name": "stdout",
     "output_type": "stream",
     "text": [
      "Copying gs://wudr/tutorial_ssurgo.csv: Copying gs://wudr/tutorial_ssurgo.csv...\n",
      "/ [1 files][  6.7 KiB/  6.7 KiB]                                                \n",
      "Operation completed over 1 objects/6.7 KiB.                                      \n",
      "\n",
      "Copied gs://wudr/tutorial_ssurgo.csv to /media/research/IrrigationGIS/swim/examples/tutorial/properties\n"
     ]
    }
   ],
   "source": [
    "dst = os.path.join(root, 'tutorial/step_2_earth_engine_extract/properties')\n",
    "list_and_copy_gcs_bucket(command, bucket, dst, glob=description, dry_run=False, overwrite=False)"
   ]
  },
  {
   "cell_type": "code",
   "execution_count": null,
   "metadata": {},
   "outputs": [],
   "source": []
  }
 ],
 "metadata": {
  "kernelspec": {
   "display_name": "Python 3 (ipykernel)",
   "language": "python",
   "name": "python3"
  },
  "language_info": {
   "codemirror_mode": {
    "name": "ipython",
    "version": 3
   },
   "file_extension": ".py",
   "mimetype": "text/x-python",
   "name": "python",
   "nbconvert_exporter": "python",
   "pygments_lexer": "ipython3",
   "version": "3.9.18"
  }
 },
 "nbformat": 4,
 "nbformat_minor": 4
}
