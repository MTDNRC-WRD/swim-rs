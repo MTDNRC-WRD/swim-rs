{
 "cells": [
  {
   "cell_type": "markdown",
   "metadata": {},
   "source": [
    "# More Earth Engine: Irrigation, Snow, and Soils Data Extraction\n",
    "\n",
    "In this notebook, we will:\n",
    "1. Use the `sample_snodas_swe` function to perform snodas snow water equivalent (SWE) extraction.\n",
    "2. Use the `get_irrigation` function to perform irrigation mask extraction.\n",
    "3. Use the `get_ssurgo` function to perform soils extraction.\n",
    "\n",
    "Ensure that the Earth Engine Python API is authenticated and configured, and that the Earth Engine CLI is available in your environment."
   ]
  },
  {
   "cell_type": "markdown",
   "metadata": {},
   "source": [
    "## 1. Import Libraries and Authorize Earth Engine"
   ]
  },
  {
   "cell_type": "code",
   "execution_count": 1,
   "metadata": {
    "jupyter": {
     "is_executing": true
    }
   },
   "outputs": [
    {
     "name": "stdout",
     "output_type": "stream",
     "text": [
      "Authorized\n"
     ]
    }
   ],
   "source": [
    "import os\n",
    "import sys\n",
    "import ee\n",
    "\n",
    "# append the project path to the environment (mine is in /home/dgketchum/PycharmProjects')\n",
    "sys.path.append('/home/dgketchum/PycharmProjects/swim-rs')\n",
    "\n",
    "from data_extraction.ee.snodas_export import sample_snodas_swe\n",
    "from data_extraction.ee.ee_props import get_irrigation, get_ssurgo\n",
    "from data_extraction.ee.ee_utils import is_authorized\n",
    "from utils.google_bucket import list_and_copy_gcs_bucket\n",
    "\n",
    "sys.path.insert(0, os.path.abspath('../..'))\n",
    "sys.setrecursionlimit(5000)\n",
    "\n",
    "if not is_authorized():\n",
    "    ee.Authenticate()\n",
    "ee.Initialize()"
   ]
  },
  {
   "cell_type": "markdown",
   "metadata": {},
   "source": [
    "## 1: Extract Raster Data\n",
    "\n",
    "Here, we're going to use functions with a similar workflow to those we used to get ETf and NDVI data from Earth Engine.\n",
    "\n",
    "For the raster data extraction, there are three functions we need to run:\n",
    "\n",
    "*   **`sample_snodas_swe`**:\n",
    "    *   This function iterates over the daily SNODAS images in Earth Engine, extracting mean SWE for each sample plot for each day, September through May.\n",
    "*   **`get_irrigation`**:\n",
    "    *   This function uses IrrMapper to get statistics about the irrigation status of each plot for each year, including the fraction of the plot that was irrigated.\n",
    "*   **`get_ssurgo`**:\n",
    "    *   This function uses data summarized and put in a public Earth Engine asset by Charles Morton at Desert Research Institute from SSURGO (https://www.nrcs.usda.gov/resources/data-and-reports/soil-survey-geographic-database-ssurgo) to summarize plot-scale soil texture and hydraulic properties used by SWIM-RS."
   ]
  },
  {
   "cell_type": "code",
   "execution_count": 2,
   "metadata": {},
   "outputs": [],
   "source": [
    "ee_account = 'ee-dgketchum'\n",
    "\n",
    "# Define Constants and Remote Sensing Data Paths\n",
    "# TODO: remove hard-coded collecitons and use variables defined here\n",
    "SWE = 'projects/earthengine-legacy/assets/projects/climate-engine/snodas/daily'\n",
    "\n",
    "\n",
    "root = '/media/research/IrrigationGIS/swim'\n",
    "bucket = 'wudr'\n",
    "fields = 'projects/ee-dgketchum/assets/swim/mt_sid_boulder'\n",
    "\n",
    "command = '/home/dgketchum/google-cloud-sdk/bin/gsutil'\n",
    "\n",
    "# We must specify which column in the shapefile represents the field's unique ID, in this case it is 'FID_1'\n",
    "FEATURE_ID = 'FID_1'"
   ]
  },
  {
   "cell_type": "markdown",
   "metadata": {},
   "source": [
    "### SWE Data\n",
    "\n",
    "Notes\n",
    "- Ensure that your Cloud Storage bucket has the correct permissions for Earth Engine to write to it.\n",
    "- This will produce a monthly dataset for Sep - May, regardless of SWE status at the sample plots."
   ]
  },
  {
   "cell_type": "code",
   "execution_count": 3,
   "metadata": {
    "scrolled": true
   },
   "outputs": [
    {
     "name": "stdout",
     "output_type": "stream",
     "text": [
      "swe_2004_01\n",
      "swe_2004_02\n",
      "swe_2004_03\n",
      "swe_2004_04\n",
      "swe_2004_05\n",
      "swe_2004_06\n",
      "swe_2004_07\n",
      "swe_2004_08\n",
      "swe_2004_09\n",
      "swe_2004_10\n",
      "swe_2004_11\n",
      "swe_2004_12\n",
      "swe_2005_01\n",
      "swe_2005_02\n",
      "swe_2005_03\n",
      "swe_2005_04\n",
      "swe_2005_05\n",
      "swe_2005_06\n",
      "swe_2005_07\n",
      "swe_2005_08\n",
      "swe_2005_09\n",
      "swe_2005_10\n",
      "swe_2005_11\n",
      "swe_2005_12\n",
      "swe_2006_01\n",
      "swe_2006_02\n",
      "swe_2006_03\n",
      "swe_2006_04\n",
      "swe_2006_05\n",
      "swe_2006_06\n",
      "swe_2006_07\n",
      "swe_2006_08\n",
      "swe_2006_09\n",
      "swe_2006_10\n",
      "swe_2006_11\n",
      "swe_2006_12\n",
      "swe_2007_01\n",
      "swe_2007_02\n",
      "swe_2007_03\n",
      "swe_2007_04\n",
      "swe_2007_05\n",
      "swe_2007_06\n",
      "swe_2007_07\n",
      "swe_2007_08\n",
      "swe_2007_09\n",
      "swe_2007_10\n",
      "swe_2007_11\n",
      "swe_2007_12\n",
      "swe_2008_01\n",
      "swe_2008_02\n",
      "swe_2008_03\n",
      "swe_2008_04\n",
      "swe_2008_05\n",
      "swe_2008_06\n",
      "swe_2008_07\n",
      "swe_2008_08\n",
      "swe_2008_09\n",
      "swe_2008_10\n",
      "swe_2008_11\n",
      "swe_2008_12\n",
      "swe_2009_01\n",
      "swe_2009_02\n",
      "swe_2009_03\n",
      "swe_2009_04\n",
      "swe_2009_05\n",
      "swe_2009_06\n",
      "swe_2009_07\n",
      "swe_2009_08\n",
      "swe_2009_09\n",
      "swe_2009_10\n",
      "swe_2009_11\n",
      "swe_2009_12\n",
      "swe_2010_01\n",
      "swe_2010_02\n",
      "swe_2010_03\n",
      "swe_2010_04\n",
      "swe_2010_05\n",
      "swe_2010_06\n",
      "swe_2010_07\n",
      "swe_2010_08\n",
      "swe_2010_09\n",
      "swe_2010_10\n",
      "swe_2010_11\n",
      "swe_2010_12\n",
      "swe_2011_01\n",
      "swe_2011_02\n",
      "swe_2011_03\n",
      "swe_2011_04\n",
      "swe_2011_05\n",
      "swe_2011_06\n",
      "swe_2011_07\n",
      "swe_2011_08\n",
      "swe_2011_09\n",
      "swe_2011_10\n",
      "swe_2011_11\n",
      "swe_2011_12\n",
      "swe_2012_01\n",
      "swe_2012_02\n",
      "swe_2012_03\n",
      "swe_2012_04\n",
      "swe_2012_05\n",
      "swe_2012_06\n",
      "swe_2012_07\n",
      "swe_2012_08\n",
      "swe_2012_09\n",
      "swe_2012_10\n",
      "swe_2012_11\n",
      "swe_2012_12\n",
      "swe_2013_01\n",
      "swe_2013_02\n",
      "swe_2013_03\n",
      "swe_2013_04\n",
      "swe_2013_05\n",
      "swe_2013_06\n",
      "swe_2013_07\n",
      "swe_2013_08\n",
      "swe_2013_09\n",
      "swe_2013_10\n",
      "swe_2013_11\n",
      "swe_2013_12\n",
      "swe_2014_01\n",
      "swe_2014_02\n",
      "swe_2014_03\n",
      "swe_2014_04\n",
      "swe_2014_05\n",
      "swe_2014_06\n",
      "swe_2014_07\n",
      "swe_2014_08\n",
      "swe_2014_09\n",
      "swe_2014_10\n",
      "swe_2014_11\n",
      "swe_2014_12\n",
      "swe_2015_01\n",
      "swe_2015_02\n",
      "swe_2015_03\n",
      "swe_2015_04\n",
      "swe_2015_05\n",
      "swe_2015_06\n",
      "swe_2015_07\n",
      "swe_2015_08\n",
      "swe_2015_09\n",
      "swe_2015_10\n",
      "swe_2015_11\n",
      "swe_2015_12\n",
      "swe_2016_01\n",
      "swe_2016_02\n",
      "swe_2016_03\n",
      "swe_2016_04\n",
      "swe_2016_05\n",
      "swe_2016_06\n",
      "swe_2016_07\n",
      "swe_2016_08\n",
      "swe_2016_09\n",
      "swe_2016_10\n",
      "swe_2016_11\n",
      "swe_2016_12\n",
      "swe_2017_01\n",
      "swe_2017_02\n",
      "swe_2017_03\n",
      "swe_2017_04\n",
      "swe_2017_05\n",
      "swe_2017_06\n",
      "swe_2017_07\n",
      "swe_2017_08\n",
      "swe_2017_09\n",
      "swe_2017_10\n",
      "swe_2017_11\n",
      "swe_2017_12\n",
      "swe_2018_01\n",
      "swe_2018_02\n",
      "swe_2018_03\n",
      "swe_2018_04\n",
      "swe_2018_05\n",
      "swe_2018_06\n",
      "swe_2018_07\n",
      "swe_2018_08\n",
      "swe_2018_09\n",
      "swe_2018_10\n",
      "swe_2018_11\n",
      "swe_2018_12\n",
      "swe_2019_01\n",
      "swe_2019_02\n",
      "swe_2019_03\n",
      "swe_2019_04\n",
      "swe_2019_05\n",
      "swe_2019_06\n",
      "swe_2019_07\n",
      "swe_2019_08\n",
      "swe_2019_09\n",
      "swe_2019_10\n",
      "swe_2019_11\n",
      "swe_2019_12\n",
      "swe_2020_01\n",
      "swe_2020_02\n",
      "swe_2020_03\n",
      "swe_2020_04\n",
      "swe_2020_05\n",
      "swe_2020_06\n",
      "swe_2020_07\n",
      "swe_2020_08\n",
      "swe_2020_09\n",
      "swe_2020_10\n",
      "swe_2020_11\n",
      "swe_2020_12\n",
      "swe_2021_01\n",
      "swe_2021_02\n",
      "swe_2021_03\n",
      "swe_2021_04\n",
      "swe_2021_05\n",
      "swe_2021_06\n",
      "swe_2021_07\n",
      "swe_2021_08\n",
      "swe_2021_09\n",
      "swe_2021_10\n",
      "swe_2021_11\n",
      "swe_2021_12\n",
      "swe_2022_01\n",
      "swe_2022_02\n",
      "swe_2022_03\n",
      "swe_2022_04\n",
      "swe_2022_05\n",
      "swe_2022_06\n",
      "swe_2022_07\n",
      "swe_2022_08\n",
      "swe_2022_09\n",
      "swe_2022_10\n",
      "swe_2022_11\n",
      "swe_2022_12\n",
      "swe_2023_01\n",
      "swe_2023_02\n",
      "swe_2023_03\n",
      "swe_2023_04\n",
      "swe_2023_05\n",
      "swe_2023_06\n",
      "swe_2023_07\n",
      "swe_2023_08\n",
      "swe_2023_09\n",
      "swe_2023_10\n",
      "swe_2023_11\n",
      "swe_2023_12\n"
     ]
    }
   ],
   "source": [
    "# Here, we run the sample_snodas_swe function on the uploaded asset.\n",
    "\n",
    "chk = os.path.join(root, 'examples/tutorial/landsat/extracts/swe')\n",
    "sample_snodas_swe(fields, bucket, debug=False, check_dir=None, feature_id=FEATURE_ID)\n"
   ]
  },
  {
   "cell_type": "markdown",
   "metadata": {},
   "source": [
    "Copy the data to the local machine once the processing is complete, as with the remote sensing data."
   ]
  },
  {
   "cell_type": "code",
   "execution_count": 5,
   "metadata": {
    "scrolled": true
   },
   "outputs": [
    {
     "name": "stdout",
     "output_type": "stream",
     "text": [
      "Copying gs://wudr/swe_2004_01.csv: Copying gs://wudr/swe_2004_01.csv...\n",
      "\\ [1 files][ 49.9 KiB/ 49.9 KiB]                                                \n",
      "Operation completed over 1 objects/49.9 KiB.                                     \n",
      "\n",
      "Copied gs://wudr/swe_2004_01.csv to /media/research/IrrigationGIS/swim/examples/tutorial/snodas/extracts\n",
      "Copying gs://wudr/swe_2004_02.csv: Copying gs://wudr/swe_2004_02.csv...\n",
      "/ [1 files][ 41.5 KiB/ 41.5 KiB]                                                \n",
      "Operation completed over 1 objects/41.5 KiB.                                     \n",
      "\n",
      "Copied gs://wudr/swe_2004_02.csv to /media/research/IrrigationGIS/swim/examples/tutorial/snodas/extracts\n",
      "Copying gs://wudr/swe_2004_03.csv: Copying gs://wudr/swe_2004_03.csv...\n",
      "/ [1 files][ 14.9 KiB/ 14.9 KiB]                                                \n",
      "Operation completed over 1 objects/14.9 KiB.                                     \n",
      "\n",
      "Copied gs://wudr/swe_2004_03.csv to /media/research/IrrigationGIS/swim/examples/tutorial/snodas/extracts\n"
     ]
    },
    {
     "ename": "KeyboardInterrupt",
     "evalue": "",
     "output_type": "error",
     "traceback": [
      "\u001b[0;31m---------------------------------------------------------------------------\u001b[0m",
      "\u001b[0;31mKeyboardInterrupt\u001b[0m                         Traceback (most recent call last)",
      "Cell \u001b[0;32mIn[5], line 4\u001b[0m\n\u001b[1;32m      2\u001b[0m dst \u001b[38;5;241m=\u001b[39m os\u001b[38;5;241m.\u001b[39mpath\u001b[38;5;241m.\u001b[39mjoin(root, \u001b[38;5;124m'\u001b[39m\u001b[38;5;124mexamples/tutorial/snodas/extracts\u001b[39m\u001b[38;5;124m'\u001b[39m)\n\u001b[1;32m      3\u001b[0m glob_ \u001b[38;5;241m=\u001b[39m \u001b[38;5;124m'\u001b[39m\u001b[38;5;124mswe\u001b[39m\u001b[38;5;124m'\u001b[39m\n\u001b[0;32m----> 4\u001b[0m \u001b[43mlist_and_copy_gcs_bucket\u001b[49m\u001b[43m(\u001b[49m\u001b[43mcommand\u001b[49m\u001b[43m,\u001b[49m\u001b[43m \u001b[49m\u001b[43mbucket\u001b[49m\u001b[43m,\u001b[49m\u001b[43m \u001b[49m\u001b[43mdst\u001b[49m\u001b[43m,\u001b[49m\u001b[43m \u001b[49m\u001b[43mglob\u001b[49m\u001b[38;5;241;43m=\u001b[39;49m\u001b[43mglob_\u001b[49m\u001b[43m,\u001b[49m\u001b[43m \u001b[49m\u001b[43mdry_run\u001b[49m\u001b[38;5;241;43m=\u001b[39;49m\u001b[38;5;28;43;01mFalse\u001b[39;49;00m\u001b[43m)\u001b[49m\n",
      "File \u001b[0;32m~/PycharmProjects/swim-rs/utils/google_bucket.py:27\u001b[0m, in \u001b[0;36mlist_and_copy_gcs_bucket\u001b[0;34m(cmd_path, bucket_path, local_dir, glob, dry_run)\u001b[0m\n\u001b[1;32m     25\u001b[0m copy_cmd \u001b[38;5;241m=\u001b[39m [cmd_path, \u001b[38;5;124m'\u001b[39m\u001b[38;5;124mcp\u001b[39m\u001b[38;5;124m'\u001b[39m, file_path, os\u001b[38;5;241m.\u001b[39mpath\u001b[38;5;241m.\u001b[39mjoin(local_dir, filename)]\n\u001b[1;32m     26\u001b[0m copy_process \u001b[38;5;241m=\u001b[39m subprocess\u001b[38;5;241m.\u001b[39mPopen(copy_cmd, stdout\u001b[38;5;241m=\u001b[39msubprocess\u001b[38;5;241m.\u001b[39mPIPE, stderr\u001b[38;5;241m=\u001b[39msubprocess\u001b[38;5;241m.\u001b[39mPIPE)\n\u001b[0;32m---> 27\u001b[0m _, copy_stderr \u001b[38;5;241m=\u001b[39m \u001b[43mcopy_process\u001b[49m\u001b[38;5;241;43m.\u001b[39;49m\u001b[43mcommunicate\u001b[49m\u001b[43m(\u001b[49m\u001b[43m)\u001b[49m\n\u001b[1;32m     29\u001b[0m \u001b[38;5;28;01mif\u001b[39;00m copy_stderr:\n\u001b[1;32m     30\u001b[0m     \u001b[38;5;28mprint\u001b[39m(\u001b[38;5;124mf\u001b[39m\u001b[38;5;124m'\u001b[39m\u001b[38;5;124mCopying \u001b[39m\u001b[38;5;132;01m{\u001b[39;00mfile_path\u001b[38;5;132;01m}\u001b[39;00m\u001b[38;5;124m: \u001b[39m\u001b[38;5;132;01m{\u001b[39;00mcopy_stderr\u001b[38;5;241m.\u001b[39mdecode()\u001b[38;5;132;01m}\u001b[39;00m\u001b[38;5;124m'\u001b[39m)\n",
      "File \u001b[0;32m~/miniconda3/envs/swim/lib/python3.9/subprocess.py:1134\u001b[0m, in \u001b[0;36mPopen.communicate\u001b[0;34m(self, input, timeout)\u001b[0m\n\u001b[1;32m   1131\u001b[0m     endtime \u001b[38;5;241m=\u001b[39m \u001b[38;5;28;01mNone\u001b[39;00m\n\u001b[1;32m   1133\u001b[0m \u001b[38;5;28;01mtry\u001b[39;00m:\n\u001b[0;32m-> 1134\u001b[0m     stdout, stderr \u001b[38;5;241m=\u001b[39m \u001b[38;5;28;43mself\u001b[39;49m\u001b[38;5;241;43m.\u001b[39;49m\u001b[43m_communicate\u001b[49m\u001b[43m(\u001b[49m\u001b[38;5;28;43minput\u001b[39;49m\u001b[43m,\u001b[49m\u001b[43m \u001b[49m\u001b[43mendtime\u001b[49m\u001b[43m,\u001b[49m\u001b[43m \u001b[49m\u001b[43mtimeout\u001b[49m\u001b[43m)\u001b[49m\n\u001b[1;32m   1135\u001b[0m \u001b[38;5;28;01mexcept\u001b[39;00m \u001b[38;5;167;01mKeyboardInterrupt\u001b[39;00m:\n\u001b[1;32m   1136\u001b[0m     \u001b[38;5;66;03m# https://bugs.python.org/issue25942\u001b[39;00m\n\u001b[1;32m   1137\u001b[0m     \u001b[38;5;66;03m# See the detailed comment in .wait().\u001b[39;00m\n\u001b[1;32m   1138\u001b[0m     \u001b[38;5;28;01mif\u001b[39;00m timeout \u001b[38;5;129;01mis\u001b[39;00m \u001b[38;5;129;01mnot\u001b[39;00m \u001b[38;5;28;01mNone\u001b[39;00m:\n",
      "File \u001b[0;32m~/miniconda3/envs/swim/lib/python3.9/subprocess.py:1995\u001b[0m, in \u001b[0;36mPopen._communicate\u001b[0;34m(self, input, endtime, orig_timeout)\u001b[0m\n\u001b[1;32m   1988\u001b[0m     \u001b[38;5;28mself\u001b[39m\u001b[38;5;241m.\u001b[39m_check_timeout(endtime, orig_timeout,\n\u001b[1;32m   1989\u001b[0m                         stdout, stderr,\n\u001b[1;32m   1990\u001b[0m                         skip_check_and_raise\u001b[38;5;241m=\u001b[39m\u001b[38;5;28;01mTrue\u001b[39;00m)\n\u001b[1;32m   1991\u001b[0m     \u001b[38;5;28;01mraise\u001b[39;00m \u001b[38;5;167;01mRuntimeError\u001b[39;00m(  \u001b[38;5;66;03m# Impossible :)\u001b[39;00m\n\u001b[1;32m   1992\u001b[0m         \u001b[38;5;124m'\u001b[39m\u001b[38;5;124m_check_timeout(..., skip_check_and_raise=True) \u001b[39m\u001b[38;5;124m'\u001b[39m\n\u001b[1;32m   1993\u001b[0m         \u001b[38;5;124m'\u001b[39m\u001b[38;5;124mfailed to raise TimeoutExpired.\u001b[39m\u001b[38;5;124m'\u001b[39m)\n\u001b[0;32m-> 1995\u001b[0m ready \u001b[38;5;241m=\u001b[39m \u001b[43mselector\u001b[49m\u001b[38;5;241;43m.\u001b[39;49m\u001b[43mselect\u001b[49m\u001b[43m(\u001b[49m\u001b[43mtimeout\u001b[49m\u001b[43m)\u001b[49m\n\u001b[1;32m   1996\u001b[0m \u001b[38;5;28mself\u001b[39m\u001b[38;5;241m.\u001b[39m_check_timeout(endtime, orig_timeout, stdout, stderr)\n\u001b[1;32m   1998\u001b[0m \u001b[38;5;66;03m# XXX Rewrite these to use non-blocking I/O on the file\u001b[39;00m\n\u001b[1;32m   1999\u001b[0m \u001b[38;5;66;03m# objects; they are no longer using C stdio!\u001b[39;00m\n",
      "File \u001b[0;32m~/miniconda3/envs/swim/lib/python3.9/selectors.py:416\u001b[0m, in \u001b[0;36m_PollLikeSelector.select\u001b[0;34m(self, timeout)\u001b[0m\n\u001b[1;32m    414\u001b[0m ready \u001b[38;5;241m=\u001b[39m []\n\u001b[1;32m    415\u001b[0m \u001b[38;5;28;01mtry\u001b[39;00m:\n\u001b[0;32m--> 416\u001b[0m     fd_event_list \u001b[38;5;241m=\u001b[39m \u001b[38;5;28;43mself\u001b[39;49m\u001b[38;5;241;43m.\u001b[39;49m\u001b[43m_selector\u001b[49m\u001b[38;5;241;43m.\u001b[39;49m\u001b[43mpoll\u001b[49m\u001b[43m(\u001b[49m\u001b[43mtimeout\u001b[49m\u001b[43m)\u001b[49m\n\u001b[1;32m    417\u001b[0m \u001b[38;5;28;01mexcept\u001b[39;00m \u001b[38;5;167;01mInterruptedError\u001b[39;00m:\n\u001b[1;32m    418\u001b[0m     \u001b[38;5;28;01mreturn\u001b[39;00m ready\n",
      "\u001b[0;31mKeyboardInterrupt\u001b[0m: "
     ]
    }
   ],
   "source": [
    "dst = os.path.join(root, 'examples/tutorial/snodas/extracts')\n",
    "glob_ = 'swe'\n",
    "list_and_copy_gcs_bucket(command, bucket, dst, glob=glob_, dry_run=False)\n"
   ]
  },
  {
   "cell_type": "markdown",
   "metadata": {},
   "source": [
    "### Irrigation Data\n",
    "\n",
    "Notes\n",
    "- This will produce an annual dataset of the IrrMapper-estimated irrigated fraction for each sample plot."
   ]
  },
  {
   "cell_type": "code",
   "execution_count": 5,
   "metadata": {},
   "outputs": [],
   "source": [
    "description = 'tutorial_irr'\n",
    "get_irrigation(fields, description, debug=False, selector=FEATURE_ID)"
   ]
  },
  {
   "cell_type": "code",
   "execution_count": 6,
   "metadata": {},
   "outputs": [
    {
     "name": "stdout",
     "output_type": "stream",
     "text": [
      "Copying gs://wudr/tutorial_irr.csv: Copying gs://wudr/tutorial_irr.csv...\n",
      "/ [1 files][ 47.8 KiB/ 47.8 KiB]                                                \n",
      "Operation completed over 1 objects/47.8 KiB.                                     \n",
      "\n",
      "Copied gs://wudr/tutorial_irr.csv to /media/research/IrrigationGIS/swim/examples/tutorial/properties\n"
     ]
    }
   ],
   "source": [
    "dst = os.path.join(root, 'examples/tutorial/properties')\n",
    "list_and_copy_gcs_bucket(command, bucket, dst, glob=description, dry_run=False)"
   ]
  },
  {
   "cell_type": "markdown",
   "metadata": {},
   "source": [
    "### Soils Data\n",
    "\n",
    "Notes\n",
    "- This will produce an single dataset of the SSURGO-estimated soil properties fraction for each sample plot."
   ]
  },
  {
   "cell_type": "code",
   "execution_count": 7,
   "metadata": {},
   "outputs": [
    {
     "name": "stdout",
     "output_type": "stream",
     "text": [
      "tutorial_ssurgo\n"
     ]
    }
   ],
   "source": [
    "description = 'tutorial_ssurgo'\n",
    "get_ssurgo(fields, description, debug=False, selector=FEATURE_ID)"
   ]
  },
  {
   "cell_type": "code",
   "execution_count": 9,
   "metadata": {},
   "outputs": [
    {
     "name": "stdout",
     "output_type": "stream",
     "text": [
      "Copying gs://wudr/tutorial_ssurgo.csv: Copying gs://wudr/tutorial_ssurgo.csv...\n",
      "/ [1 files][  6.7 KiB/  6.7 KiB]                                                \n",
      "Operation completed over 1 objects/6.7 KiB.                                      \n",
      "\n",
      "Copied gs://wudr/tutorial_ssurgo.csv to /media/research/IrrigationGIS/swim/examples/tutorial/properties\n"
     ]
    }
   ],
   "source": [
    "dst = os.path.join(root, 'examples/tutorial/properties')\n",
    "list_and_copy_gcs_bucket(command, bucket, dst, glob=description, dry_run=False)"
   ]
  },
  {
   "cell_type": "code",
   "execution_count": null,
   "metadata": {},
   "outputs": [],
   "source": []
  }
 ],
 "metadata": {
  "kernelspec": {
   "display_name": "Python 3 (ipykernel)",
   "language": "python",
   "name": "python3"
  },
  "language_info": {
   "codemirror_mode": {
    "name": "ipython",
    "version": 3
   },
   "file_extension": ".py",
   "mimetype": "text/x-python",
   "name": "python",
   "nbconvert_exporter": "python",
   "pygments_lexer": "ipython3",
   "version": "3.9.18"
  }
 },
 "nbformat": 4,
 "nbformat_minor": 4
}
