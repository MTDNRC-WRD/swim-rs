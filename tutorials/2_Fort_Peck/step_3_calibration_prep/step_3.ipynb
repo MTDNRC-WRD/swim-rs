{
 "cells": [
  {
   "cell_type": "markdown",
   "id": "cc99414e-f1dd-40e1-9253-309c7a42cf8a",
   "metadata": {},
   "source": [
    "# Calibration Tutorial\n",
    "\n",
    "## Step 3: Preparing to Calibrate\n",
    "\n",
    "Now we see if we are able to improve the model's performance through calibration.\n",
    "\n",
    "The main calibration tool used in SWIM (PEST++) has been developed over many years by many clever and diligent developers. They've done us a huge favor by writing great documentation that covers the highly varied functionality of PEST++. It's worth it to check out the materials, which will serve those looking for a cursory look, all the way to those that want a deep dive. Several stand-out resources to refer to are the following:\n",
    "\n",
    "1. The PEST Manual 4th. Ed., Doherty, J., 2002.: https://www.epa.gov/sites/default/files/documents/PESTMAN.PDF. This treats the use of PESTS++ predecessor PEST, but does a great job explaining how we might estimate parameters given observations and a model.\n",
    "2. The GMDSI tutorial notebooks. These are applications of PEST++ using the groundwater modeling software MODFLOW and the modern Python inteface to PEST++, pyemu: https://github.com/gmdsi/GMDSI_notebooks\n",
    "3. The PEST++ User's Manual (https://github.com/usgs/pestpp/blob/master/documentation/pestpp_users_manual.md).\n",
    "4. Calibration and Uncertainty Analysis for Complex Environmental Models. Doherty, J., 2015. See https://pesthomepage.org/pest-book.\n"
   ]
  },
  {
   "cell_type": "markdown",
   "id": "dd8a1fdc-97e7-4aa3-8af0-5820f2f647f5",
   "metadata": {},
   "source": [
    "### 1. PEST++ Installation\n",
    "\n",
    "The PEST++ developers do a great job describing the installation process, so we won't cover it here.\n",
    "\n",
    "Get the latest release of PEST++ for your operating system: https://github.com/usgs/pestpp/releases\n",
    "\n",
    "Follow the installation instructions: https://github.com/usgs/pestpp/blob/master/documentation/cmake.md"
   ]
  },
  {
   "cell_type": "markdown",
   "id": "92b92b84-9823-4e1d-a74f-0ccb4a75df22",
   "metadata": {},
   "source": [
    "### 2. Setup the calibration files\n",
    "\n",
    "In order to use PEST++, we need to run through what is, perhaps, a common loop in model calibration:\n",
    "\n",
    "1. Intialize the model with intial conditions.\n",
    "2. Run the model, write the results.\n",
    "3. Compare the results to observations.\n",
    "4. Propose a new, hopefully better, set of parameters.\n",
    "5. Run the model with the new parameters, write the results.\n",
    "6. Repeat 3 - 5.\n",
    "\n",
    "And so on, until we are satisfied with the performance of the model. \n",
    "\n",
    "The purpose of the SWIM calibration approach and this tutorial is to set up a system where the model and the calibration software can operate with minimal interaction. All we need the model to do is take the proposed parameters and use them in a model run, and write the results in a convenient format in a convenient place. All we need the calibration software to do is to compare the model results to observations, determine how to tweak the parameters we've told it are 'tunable', and write a new parameter proposal in a convenient format in a convenient place. \n",
    "\n",
    "The `calibration` package in SWIM contains software to build what we need to do this with three modules:\n",
    "\n",
    "1. `build_pp_files.py` uses several functions to build the files that control PEST++ behavior:\n",
    "   - The function `build_pest` builds the main `.pst` control file, which defines the eight tunable SWIM model parameters `'aw', 'rew', 'tew', 'ndvi_alpha', 'ndvi_beta', 'mad', 'swe_alpha'`, and `'swe_beta'`. These are three soil water holding capacity parameters (`'aw', 'rew', 'tew'`), the coefficients that control the relationship between remote-sensing-based NDVI and the model transpiration rate parameter `Kcb` (`'ndvi_alpha', 'ndvi_beta'`), the control on when soil water deficit begins to impact transpiration rate (`'mad'`), and the two coefficients that determine the melting rate of snow (`'swe_alpha'`, `'swe_beta'`). The `.pst` file also contains the observation data, which we have derived from SNODAS (SWE) and SSEBop (ETf). Further, the file contains estimates of the noise we believe is in the data. Finally, the `.pst` points to the main Python file that will be used to call the `pestpp-ies` command, the function that runs the PEST++ implementation of Iterative Ensemble Smoother, the algorithm we'll use.\n",
    "2. `custom_forward_run.py` has a single, simple function (`run`) that uses a system call to execute a SWIM script that runs the model, much like how we've run it ouselves previously. You will need to modify `custom_forward_run.py` to enter your machine's path.\n",
    "3. `run_pest.py` is the module that we launch, and that starts PEST++ running. This will also need to be modified to use your machine's path.\n",
    "\n",
    "The actual flow of code execution during calibration is a little confusing, because we use a Python script (`run_pest.py`) to run a command line executable (`'pestpp-ies'`), which itself then executes `custom_forward_run.py` to finally run our Python SWIM code! I know!\n"
   ]
  },
  {
   "cell_type": "code",
   "execution_count": 8,
   "id": "661e64ca-d584-4fad-affc-ae7918d8901d",
   "metadata": {},
   "outputs": [],
   "source": [
    "import json\n",
    "import os\n",
    "import sys\n",
    "\n",
    "from tqdm import tqdm\n",
    "import numpy as np\n",
    "import pandas as pd\n",
    "import geopandas as gpd\n",
    "\n",
    "home = os.path.expanduser('~')\n",
    "root = os.path.join(home, 'PycharmProjects', 'swim-rs')\n",
    "sys.path.append(root)\n",
    "\n",
    "from prep.prep_plots import preproc"
   ]
  },
  {
   "cell_type": "markdown",
   "id": "5c803238-ff82-4c79-9393-e9ec3d5e3e94",
   "metadata": {},
   "source": [
    "Let's just build a `dict` with the paths we're going to need:"
   ]
  },
  {
   "cell_type": "code",
   "execution_count": 18,
   "id": "651d60b1-2ba1-4768-8e75-554cc15a8cd0",
   "metadata": {},
   "outputs": [],
   "source": [
    "# We're going to use the need to refer repeatedly to our 'pest' directory to do all PEST++-related work, let's put it at the top level:\n",
    "project_ws = os.path.join(root, 'tutorials', '2_Fort_Peck')\n",
    "cal_dir = os.path.join(project_ws, 'pest')\n",
    "data = os.path.join(project_ws, 'data')\n",
    "\n",
    "# for convenience, we put all the paths we'll need in a dict\n",
    "PATHS = {'prepped_input': os.path.join(data, 'prepped_input.json'),\n",
    "         'input_ts_out': os.path.join(data, 'input_timeseries'),\n",
    "        '_pst': 'fort_peck.pst',\n",
    "        'exe_': 'pestpp-ies',\n",
    "        'm_dir': os.path.join(cal_dir, 'master'),\n",
    "        'p_dir': os.path.join(cal_dir, 'pest'),\n",
    "        'w_dir': os.path.join(cal_dir, 'workers'),\n",
    "         'obs': os.path.join(project_ws, 'obs'),\n",
    "        'python_script': os.path.join(root, 'calibrate', 'custom_forward_run.py')}\n",
    "\n",
    "if not os.path.isdir(PATHS['obs']):\n",
    "    os.makedirs(PATHS['obs'], exist_ok=True)"
   ]
  },
  {
   "cell_type": "code",
   "execution_count": 19,
   "id": "5cbf9dc8-53d3-4ae2-a26c-d1afe3d2700f",
   "metadata": {},
   "outputs": [
    {
     "name": "stdout",
     "output_type": "stream",
     "text": [
      "\n",
      "US-FPe\n",
      "preproc ETf mean: 0.14\n"
     ]
    },
    {
     "ename": "FileNotFoundError",
     "evalue": "[Errno 2] No such file or directory: '/home/dgketchum/PycharmProjects/swim-rs/tutorials/2_Fort_Peck/pest/obs/obs_etf_US-FPe.np'",
     "output_type": "error",
     "traceback": [
      "\u001b[0;31m---------------------------------------------------------------------------\u001b[0m",
      "\u001b[0;31mFileNotFoundError\u001b[0m                         Traceback (most recent call last)",
      "Cell \u001b[0;32mIn[19], line 12\u001b[0m\n\u001b[1;32m      6\u001b[0m \u001b[38;5;66;03m# use the following for a full station network extract:\u001b[39;00m\n\u001b[1;32m      7\u001b[0m \u001b[38;5;66;03m# stations = gdf[FEATURE_ID].tolist()\u001b[39;00m\n\u001b[1;32m      8\u001b[0m \n\u001b[1;32m      9\u001b[0m \u001b[38;5;66;03m# use this for just Fort Peck\u001b[39;00m\n\u001b[1;32m     10\u001b[0m stations \u001b[38;5;241m=\u001b[39m [\u001b[38;5;124m'\u001b[39m\u001b[38;5;124mUS-FPe\u001b[39m\u001b[38;5;124m'\u001b[39m]\n\u001b[0;32m---> 12\u001b[0m \u001b[43mpreproc\u001b[49m\u001b[43m(\u001b[49m\u001b[43mstations\u001b[49m\u001b[43m,\u001b[49m\u001b[43m \u001b[49m\u001b[43mPATHS\u001b[49m\u001b[43m[\u001b[49m\u001b[38;5;124;43m'\u001b[39;49m\u001b[38;5;124;43minput_ts_out\u001b[39;49m\u001b[38;5;124;43m'\u001b[39;49m\u001b[43m]\u001b[49m\u001b[43m,\u001b[49m\u001b[43m \u001b[49m\u001b[43mcal_dir\u001b[49m\u001b[43m)\u001b[49m\n",
      "File \u001b[0;32m~/PycharmProjects/swim-rs/prep/prep_plots.py:171\u001b[0m, in \u001b[0;36mpreproc\u001b[0;34m(field_ids, src, _dir)\u001b[0m\n\u001b[1;32m    169\u001b[0m \u001b[38;5;28mprint\u001b[39m(\u001b[38;5;124m'\u001b[39m\u001b[38;5;130;01m\\n\u001b[39;00m\u001b[38;5;132;01m{}\u001b[39;00m\u001b[38;5;130;01m\\n\u001b[39;00m\u001b[38;5;124mpreproc ETf mean: \u001b[39m\u001b[38;5;132;01m{:.2f}\u001b[39;00m\u001b[38;5;124m'\u001b[39m\u001b[38;5;241m.\u001b[39mformat(fid, np\u001b[38;5;241m.\u001b[39mnanmean(data[\u001b[38;5;124m'\u001b[39m\u001b[38;5;124metf\u001b[39m\u001b[38;5;124m'\u001b[39m]\u001b[38;5;241m.\u001b[39mvalues)))\n\u001b[1;32m    170\u001b[0m _file \u001b[38;5;241m=\u001b[39m os\u001b[38;5;241m.\u001b[39mpath\u001b[38;5;241m.\u001b[39mjoin(_dir, \u001b[38;5;124m'\u001b[39m\u001b[38;5;124mobs\u001b[39m\u001b[38;5;124m'\u001b[39m, \u001b[38;5;124m'\u001b[39m\u001b[38;5;124mobs_etf_\u001b[39m\u001b[38;5;132;01m{}\u001b[39;00m\u001b[38;5;124m.np\u001b[39m\u001b[38;5;124m'\u001b[39m\u001b[38;5;241m.\u001b[39mformat(fid))\n\u001b[0;32m--> 171\u001b[0m \u001b[43mnp\u001b[49m\u001b[38;5;241;43m.\u001b[39;49m\u001b[43msavetxt\u001b[49m\u001b[43m(\u001b[49m\u001b[43m_file\u001b[49m\u001b[43m,\u001b[49m\u001b[43m \u001b[49m\u001b[43mdata\u001b[49m\u001b[43m[\u001b[49m\u001b[38;5;124;43m'\u001b[39;49m\u001b[38;5;124;43metf\u001b[39;49m\u001b[38;5;124;43m'\u001b[39;49m\u001b[43m]\u001b[49m\u001b[38;5;241;43m.\u001b[39;49m\u001b[43mvalues\u001b[49m\u001b[43m)\u001b[49m\n\u001b[1;32m    173\u001b[0m data[\u001b[38;5;124m'\u001b[39m\u001b[38;5;124meta\u001b[39m\u001b[38;5;124m'\u001b[39m] \u001b[38;5;241m=\u001b[39m data[\u001b[38;5;124m'\u001b[39m\u001b[38;5;124meto_mm\u001b[39m\u001b[38;5;124m'\u001b[39m] \u001b[38;5;241m*\u001b[39m data[\u001b[38;5;124m'\u001b[39m\u001b[38;5;124metf_inv_irr\u001b[39m\u001b[38;5;124m'\u001b[39m]\n\u001b[1;32m    174\u001b[0m \u001b[38;5;28mprint\u001b[39m(\u001b[38;5;124m'\u001b[39m\u001b[38;5;124mpreproc ETa mean: \u001b[39m\u001b[38;5;132;01m{:.2f}\u001b[39;00m\u001b[38;5;124m'\u001b[39m\u001b[38;5;241m.\u001b[39mformat(np\u001b[38;5;241m.\u001b[39mnanmean(data[\u001b[38;5;124m'\u001b[39m\u001b[38;5;124meta\u001b[39m\u001b[38;5;124m'\u001b[39m]\u001b[38;5;241m.\u001b[39mvalues)))\n",
      "File \u001b[0;32m~/miniconda3/envs/swim/lib/python3.9/site-packages/numpy/lib/npyio.py:1556\u001b[0m, in \u001b[0;36msavetxt\u001b[0;34m(fname, X, fmt, delimiter, newline, header, footer, comments, encoding)\u001b[0m\n\u001b[1;32m   1553\u001b[0m     fname \u001b[38;5;241m=\u001b[39m os_fspath(fname)\n\u001b[1;32m   1554\u001b[0m \u001b[38;5;28;01mif\u001b[39;00m _is_string_like(fname):\n\u001b[1;32m   1555\u001b[0m     \u001b[38;5;66;03m# datasource doesn't support creating a new file ...\u001b[39;00m\n\u001b[0;32m-> 1556\u001b[0m     \u001b[38;5;28;43mopen\u001b[39;49m\u001b[43m(\u001b[49m\u001b[43mfname\u001b[49m\u001b[43m,\u001b[49m\u001b[43m \u001b[49m\u001b[38;5;124;43m'\u001b[39;49m\u001b[38;5;124;43mwt\u001b[39;49m\u001b[38;5;124;43m'\u001b[39;49m\u001b[43m)\u001b[49m\u001b[38;5;241m.\u001b[39mclose()\n\u001b[1;32m   1557\u001b[0m     fh \u001b[38;5;241m=\u001b[39m np\u001b[38;5;241m.\u001b[39mlib\u001b[38;5;241m.\u001b[39m_datasource\u001b[38;5;241m.\u001b[39mopen(fname, \u001b[38;5;124m'\u001b[39m\u001b[38;5;124mwt\u001b[39m\u001b[38;5;124m'\u001b[39m, encoding\u001b[38;5;241m=\u001b[39mencoding)\n\u001b[1;32m   1558\u001b[0m     own_fh \u001b[38;5;241m=\u001b[39m \u001b[38;5;28;01mTrue\u001b[39;00m\n",
      "\u001b[0;31mFileNotFoundError\u001b[0m: [Errno 2] No such file or directory: '/home/dgketchum/PycharmProjects/swim-rs/tutorials/2_Fort_Peck/pest/obs/obs_etf_US-FPe.np'"
     ]
    }
   ],
   "source": [
    "# write the observed data to files within the 'pest' directory\n",
    "shapefile_path = os.path.join(data, 'gis', 'flux_fields.shp')\n",
    "gdf = gpd.read_file(shapefile_path)\n",
    "FEATURE_ID = 'field_1'\n",
    "\n",
    "# use the following for a full station network extract:\n",
    "# stations = gdf[FEATURE_ID].tolist()\n",
    "\n",
    "# use this for just Fort Peck\n",
    "stations = ['US-FPe']\n",
    "\n",
    "preproc(stations, PATHS['input_ts_out'], project_ws)"
   ]
  },
  {
   "cell_type": "code",
   "execution_count": null,
   "id": "65f4dfbd-b87b-44f6-8d8f-c7fab17bea1f",
   "metadata": {},
   "outputs": [],
   "source": []
  }
 ],
 "metadata": {
  "kernelspec": {
   "display_name": "Python 3 (ipykernel)",
   "language": "python",
   "name": "python3"
  },
  "language_info": {
   "codemirror_mode": {
    "name": "ipython",
    "version": 3
   },
   "file_extension": ".py",
   "mimetype": "text/x-python",
   "name": "python",
   "nbconvert_exporter": "python",
   "pygments_lexer": "ipython3",
   "version": "3.9.18"
  }
 },
 "nbformat": 4,
 "nbformat_minor": 5
}
