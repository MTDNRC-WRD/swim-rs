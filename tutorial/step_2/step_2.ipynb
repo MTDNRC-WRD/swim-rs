{
 "cells": [
  {
   "cell_type": "markdown",
   "metadata": {},
   "source": [
    "# Earth Engine Asset Upload and Remote Sensing Extraction\n",
    "\n",
    "In this notebook, we will:\n",
    "1. Upload our data as an Earth Engine asset using the Earth Engine CLI.\n",
    "2. Use the `clustered_field_etf` function to perform SSEBop ETf extraction.\n",
    "\n",
    "Ensure that the Earth Engine Python API is authenticated and configured, and that the Earth Engine CLI is available in your environment."
   ]
  },
  {
   "cell_type": "code",
   "execution_count": null,
   "metadata": {},
   "outputs": [],
   "source": [
    "import os\n",
    "import sys\n",
    "import ee\n",
    "\n",
    "from data_extraction.ee.etf_export import clustered_field_etf\n",
    "from data_extraction.ee.ee_utils import is_authorized\n",
    "\n",
    "sys.path.insert(0, os.path.abspath('../..'))\n",
    "sys.setrecursionlimit(5000)"
   ]
  },
  {
   "cell_type": "code",
   "execution_count": null,
   "metadata": {},
   "outputs": [],
   "source": [
    "if not is_authorized():\n",
    "    ee.Authenticate()\n",
    "ee.Initialize()"
   ]
  },
  {
   "cell_type": "markdown",
   "metadata": {},
   "source": [
    "## Step 3: Upload Shapefile to Earth Engine Asset\n",
    "\n",
    "Use the Earth Engine CLI to upload your shapefile as an asset. Replace the following command with your file path and asset path:\n",
    "\n",
    "```bash\n",
    "earthengine upload table tutorial/step_1/mt_sid_boulder_epsg5071.shp --asset_id=users/your_username/your_asset_name\n",
    "```\n",
    "\n",
    "After the upload is complete, you can proceed with the extraction steps below."
   ]
  },
  {
   "cell_type": "code",
   "execution_count": null,
   "metadata": {},
   "outputs": [],
   "source": [
    "# Step 4: Define Constants and Remote Sensing Data Paths\n",
    "IRR = 'projects/ee-dgketchum/assets/IrrMapper/IrrMapperComp'\n",
    "ETF = 'projects/usgs-gee-nhm-ssebop/assets/ssebop/landsat/c02'"
   ]
  },
  {
   "cell_type": "code",
   "execution_count": null,
   "metadata": {},
   "outputs": [],
   "source": [
    "   is_authorized()\n",
    "    bucket_ = 'wudr'\n",
    "    fields = 'users/dgketchum/fields/tongue_annex_20OCT2023'\n",
    "    for mask in ['inv_irr', 'irr']:\n",
    "        chk = os.path.join(d, 'examples/tongue/landsat/extracts/etf/{}'.format(mask))\n",
    "        clustered_field_etf(fields, bucket_, debug=False, mask_type=mask, check_dir=None)"
   ]
  },
  {
   "cell_type": "code",
   "execution_count": null,
   "metadata": {},
   "outputs": [],
   "source": [
    "# Step 6: Run Data Extraction with clustered_field_etf\n",
    "# Here, we run the clustered_field_etf function on the uploaded asset.\n",
    "# Replace 'users/your_username/your_asset_name' with your actual asset path.\n",
    "\n",
    "feature_coll = ee.FeatureCollection('users/your_username/your_asset_name')\n",
    "bucket = 'your_cloud_storage_bucket'\n",
    "clustered_field_etf(feature_coll, bucket=bucket, debug=True, mask_type='irr')"
   ]
  },
  {
   "cell_type": "markdown",
   "metadata": {},
   "source": [
    "### Notes\n",
    "- Ensure that your Cloud Storage bucket has the correct permissions for Earth Engine to write to it.\n",
    "- You can modify parameters in the `clustered_field_etf` function for different masking and debugging options."
   ]
  }
 ],
 "metadata": {
  "kernelspec": {
   "display_name": "Python 3",
   "language": "python",
   "name": "python3"
  },
  "language_info": {
   "codemirror_mode": {
    "name": "ipython",
    "version": 3
   },
   "file_extension": ".py",
   "mimetype": "text/x-python",
   "name": "python",
   "nbconvert_exporter": "python",
   "pygments_lexer": "ipython3",
   "version": "3.8.5"
  }
 },
 "nbformat": 4,
 "nbformat_minor": 2
}
