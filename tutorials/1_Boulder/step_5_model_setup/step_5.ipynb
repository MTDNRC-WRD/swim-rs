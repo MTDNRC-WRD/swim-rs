{
 "cells": [
  {
   "cell_type": "markdown",
   "id": "9362d746-4f1b-438b-9ee4-3b02f801ec08",
   "metadata": {},
   "source": [
    "# Model Run\n",
    "\n",
    "Now we only need to run the (uncalibrated) model to see what we're working with. This consists of a couple simple steps:\n",
    "\n",
    "1. Configure the model using the `tutorial_config.toml` file.\n",
    "2. Initialize the plot data.\n",
    "3. Run the model.\n",
    "4. Inspect the outputs.\n",
    "   "
   ]
  },
  {
   "cell_type": "code",
   "execution_count": null,
   "id": "fad07924-22c3-4ed0-af86-f9dd2ea6fced",
   "metadata": {},
   "outputs": [],
   "source": []
  }
 ],
 "metadata": {
  "kernelspec": {
   "display_name": "Python 3 (ipykernel)",
   "language": "python",
   "name": "python3"
  },
  "language_info": {
   "codemirror_mode": {
    "name": "ipython",
    "version": 3
   },
   "file_extension": ".py",
   "mimetype": "text/x-python",
   "name": "python",
   "nbconvert_exporter": "python",
   "pygments_lexer": "ipython3",
   "version": "3.9.18"
  }
 },
 "nbformat": 4,
 "nbformat_minor": 5
}
