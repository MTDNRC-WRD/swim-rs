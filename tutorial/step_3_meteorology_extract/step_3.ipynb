{
 "cells": [
  {
   "cell_type": "markdown",
   "id": "8b4647cb-6e53-49b8-a8d1-5c2686f7b23f",
   "metadata": {},
   "source": [
    "# Meteorology Data Extraction\n",
    "\n",
    "In this notebook, we will:\n",
    "1. Run code to associate sample plots (fields) with their nearest GridMET cell.\n",
    "2. Use a simple Python API that downloads GridMET data from the THREDDS server.\n",
    "\n"
   ]
  },
  {
   "cell_type": "code",
   "execution_count": null,
   "id": "840e1772-a430-495d-8a55-4ff867a1b28d",
   "metadata": {},
   "outputs": [],
   "source": []
  }
 ],
 "metadata": {
  "kernelspec": {
   "display_name": "Python 3 (ipykernel)",
   "language": "python",
   "name": "python3"
  },
  "language_info": {
   "codemirror_mode": {
    "name": "ipython",
    "version": 3
   },
   "file_extension": ".py",
   "mimetype": "text/x-python",
   "name": "python",
   "nbconvert_exporter": "python",
   "pygments_lexer": "ipython3",
   "version": "3.9.18"
  }
 },
 "nbformat": 4,
 "nbformat_minor": 5
}
