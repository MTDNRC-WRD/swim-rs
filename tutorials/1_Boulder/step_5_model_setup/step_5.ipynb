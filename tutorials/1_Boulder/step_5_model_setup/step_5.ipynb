{
 "cells": [
  {
   "cell_type": "markdown",
   "id": "9362d746-4f1b-438b-9ee4-3b02f801ec08",
   "metadata": {},
   "source": [
    "# Model Run\n",
    "\n",
    "Now we only need to run the (uncalibrated) model to see what we're working with. This consists of a couple simple steps:\n",
    "\n",
    "1. Configure the model using the `tutorial_config.toml` file.\n",
    "2. Initialize the plot data.\n",
    "3. Run the model.\n",
    "4. Inspect the outputs.\n",
    "   "
   ]
  },
  {
   "cell_type": "code",
   "execution_count": 1,
   "id": "9f5153c5-1ead-46e6-ac29-df26cbc839d0",
   "metadata": {},
   "outputs": [],
   "source": [
    "import os\n",
    "import sys\n",
    "import json\n",
    "\n",
    "import toml\n",
    "from pprint import pprint\n",
    "\n",
    "# append the project path to the environment, change as needed\n",
    "home = os.path.expanduser('~')\n",
    "root = os.path.join(home, 'PycharmProjects', 'swim-rs')\n",
    "sys.path.append(root)"
   ]
  },
  {
   "cell_type": "markdown",
   "id": "b97fb1bf-91f5-4b77-b9c3-70fd4cdac674",
   "metadata": {},
   "source": [
    "# 1. The ProjectConfig object.\n",
    "\n",
    "We've avoided using this so far, because configuration files can encourage use to passively press 'GO' and not think about the code we need to run. Now that we've thought about it, we use the configuration file so we don't have to think about it again. Let's check it out:"
   ]
  },
  {
   "cell_type": "code",
   "execution_count": 4,
   "id": "724b5c26-543c-4579-a70d-f82c74777f20",
   "metadata": {},
   "outputs": [
    {
     "name": "stdout",
     "output_type": "stream",
     "text": [
      "{\n",
      "    \"FIELDS\": {\n",
      "        \"project_folder\": \"{project_root}/step_5_model_setup\",\n",
      "        \"data_folder\": \"{project_root}/data\",\n",
      "        \"field_index\": \"FID_1\",\n",
      "        \"kc_proxy\": \"etf\",\n",
      "        \"cover_proxy\": \"ndvi\",\n",
      "        \"start_date\": \"2004-01-01\",\n",
      "        \"end_date\": \"2022-12-31\",\n",
      "        \"input_data\": \"{project_root}/step_5_model_setup/prepped_input.json\",\n",
      "        \"elev_units\": \"m\",\n",
      "        \"refet_type\": \"eto\"\n",
      "    },\n",
      "    \"CALIBRATION\": {\n",
      "        \"calibrate_flag\": 0,\n",
      "        \"calibration_folder\": \"\",\n",
      "        \"initial_values_csv\": \"\"\n",
      "    },\n",
      "    \"FORECAST\": {\n",
      "        \"forecast_flag\": 0,\n",
      "        \"forecast_parameters\": \"\"\n",
      "    }\n",
      "}\n"
     ]
    }
   ],
   "source": [
    "config_file = os.path.join(root, 'tutorials', '1_Boulder', 'data', 'tutorial_config.toml')\n",
    "\n",
    "with open(config_file, 'r') as f:\n",
    "    config = toml.load(f)\n",
    "\n",
    "formatted_config = json.dumps(config, indent=4)\n",
    "print(formatted_config)"
   ]
  },
  {
   "cell_type": "markdown",
   "id": "af87a604-9689-40bc-ab32-85b5c533fc2e",
   "metadata": {},
   "source": [
    "In this simple file, we have the most important configuration options uner `FIELDS`. We also have sections for `CALIBRATION` and `FORECAST`, which we'd need if we were calibrating the model and then using the calibrated model to make predictions, and whose flags we'd set to `1` if we were using them. \n",
    "\n",
    "This is a nice dict structure of key: value pairs that we'd easily be able to access during the internal model set up and the model run. However, to make things even easier, we provide this code to a config file parser, that takes this data and creates a configuration class, whcih makes all this data clean and easy for the model to access:"
   ]
  },
  {
   "cell_type": "code",
   "execution_count": 17,
   "id": "ff850b35-1e26-4c49-b80e-97306f5145db",
   "metadata": {},
   "outputs": [
    {
     "name": "stdout",
     "output_type": "stream",
     "text": [
      "Setting project root to /home/dgketchum/PycharmProjects/swim-rs/tutorials/1_Boulder\n",
      "\n",
      "\n",
      "Config: /home/dgketchum/PycharmProjects/swim-rs/tutorials/1_Boulder/data/tutorial_config.toml\n",
      "CALIBRATION OFF\n",
      "FORECAST OFF\n"
     ]
    }
   ],
   "source": [
    "from swim.config import ProjectConfig\n",
    "\n",
    "# Our project workspace will replace the \"{project_root}\" in the paths in the config file,\n",
    "# several directories will be placed there. Let's use the top level directory of this tutorial\n",
    "project_ws = os.path.join(root, 'tutorials', '1_Boulder')\n",
    "print(f'Setting project root to {project_ws}')\n",
    "\n",
    "config = ProjectConfig()\n",
    "config.read_config(config_file, project_ws)"
   ]
  },
  {
   "cell_type": "markdown",
   "id": "2c6d6a92-6548-4068-aad3-e8f0f13f89c7",
   "metadata": {},
   "source": [
    "Now, we have a succinct Python object with all the data we need for basic model setup, for example, the project workspace and the location of our model input file:"
   ]
  },
  {
   "cell_type": "code",
   "execution_count": 18,
   "id": "bd1a07ae-86dc-42a3-8cfc-7b1f7e970183",
   "metadata": {},
   "outputs": [
    {
     "data": {
      "text/plain": [
       "('/home/dgketchum/PycharmProjects/swim-rs/tutorials/1_Boulder/step_5_model_setup',\n",
       " '/home/dgketchum/PycharmProjects/swim-rs/tutorials/1_Boulder/data/prepped_input.json')"
      ]
     },
     "execution_count": 18,
     "metadata": {},
     "output_type": "execute_result"
    }
   ],
   "source": [
    "config.project_ws, config.input_data"
   ]
  },
  {
   "cell_type": "markdown",
   "id": "5ce92bcd-bbb9-4ac1-a859-93babe58ab4a",
   "metadata": {},
   "source": [
    "# 2. The SamplePlot object.\n",
    "\n",
    "Similarly, we will instantiate another important Python object that contains all the input data we built. We call it `fields` here, but it could be any sample plots we've prepared:"
   ]
  },
  {
   "cell_type": "code",
   "execution_count": 19,
   "id": "b5f31045-2ea8-41ed-baa5-acfb0f008e7d",
   "metadata": {},
   "outputs": [],
   "source": [
    "from swim.input import SamplePlots\n",
    "\n",
    "fields = SamplePlots()\n",
    "fields.initialize_plot_data(config)"
   ]
  },
  {
   "cell_type": "markdown",
   "id": "f50453dd-440a-4483-86be-719c7a5eac9f",
   "metadata": {},
   "source": [
    "The `SamplePlot` object has all the data from our input file, it is rich in information. It's only attribute is `input` which is a dict:"
   ]
  },
  {
   "cell_type": "code",
   "execution_count": 22,
   "id": "6a2a5e87-6ba9-402d-9be7-8a47de229a57",
   "metadata": {},
   "outputs": [
    {
     "data": {
      "text/plain": [
       "dict_keys(['props', 'irr_data', 'order', 'time_series'])"
      ]
     },
     "execution_count": 22,
     "metadata": {},
     "output_type": "execute_result"
    }
   ],
   "source": [
    "fields.input.keys()"
   ]
  },
  {
   "cell_type": "markdown",
   "id": "a0728d24-7972-42ab-8bbd-c748560c118c",
   "metadata": {},
   "source": [
    "`props` has an entry for each sample plot (field) with irrigation fraction data, soils info, and plot area."
   ]
  },
  {
   "cell_type": "code",
   "execution_count": 24,
   "id": "36f569ee-28c0-4eec-8448-41e4fa8241b2",
   "metadata": {},
   "outputs": [
    {
     "data": {
      "text/plain": [
       "{'irr': {'1987': 0.3272132460942714,\n",
       "  '1988': 0.3261867405528106,\n",
       "  '1989': 0.3197272666577646,\n",
       "  '1990': 0.2962261316597675,\n",
       "  '1991': 0.2411620376552275,\n",
       "  '1992': 0.1891357324075309,\n",
       "  '1993': 0.560939377754039,\n",
       "  '1994': 0.4646147683268792,\n",
       "  '1995': 0.5454917211910799,\n",
       "  '1996': 0.4849696221124313,\n",
       "  '1997': 0.6506626385365201,\n",
       "  '1998': 0.5828631993590598,\n",
       "  '1999': 0.6616036854052609,\n",
       "  '2000': 0.4539741621044196,\n",
       "  '2001': 0.493482107090399,\n",
       "  '2002': 0.4880241020162903,\n",
       "  '2003': 0.5302443583923084,\n",
       "  '2004': 0.5211476832687939,\n",
       "  '2005': 0.5828631993590597,\n",
       "  '2006': 0.5147633195353182,\n",
       "  '2007': 0.4667428895713711,\n",
       "  '2008': 0.4412054346374681,\n",
       "  '2009': 0.5190195620243021,\n",
       "  '2010': 0.94794865803178,\n",
       "  '2011': 0.9835675657631192,\n",
       "  '2012': 0.9699142075043398,\n",
       "  '2013': 0.9832838162638536,\n",
       "  '2014': 0.9896848711443452,\n",
       "  '2015': 0.9878655361196425,\n",
       "  '2016': 0.9896848711443452,\n",
       "  '2017': 0.982340766457471,\n",
       "  '2018': 0.9896848711443452,\n",
       "  '2019': 0.9930397916944852,\n",
       "  '2020': 0.9930397916944852,\n",
       "  '2021': 0.9911954199492592,\n",
       "  '2022': 0.9912204566697824,\n",
       "  '2023': 0.9929897182534384,\n",
       "  '2024': 0.9912204566697824},\n",
       " 'awc': 0.13280435311337,\n",
       " 'ksat': 12.498292693047071,\n",
       " 'clay': 21.048813238403103,\n",
       " 'sand': 47.1092529534491,\n",
       " 'area_sq_m': 293566.04893590265}"
      ]
     },
     "execution_count": 24,
     "metadata": {},
     "output_type": "execute_result"
    }
   ],
   "source": [
    "fields.input['props']['043_000160']"
   ]
  },
  {
   "cell_type": "markdown",
   "id": "a968eab1-6005-4ffa-b915-6a62d1f86a32",
   "metadata": {},
   "source": [
    "`irr_data` has an entry for each field, which has a nested dict with an entry for each year, with more detailed irrigation information."
   ]
  },
  {
   "cell_type": "code",
   "execution_count": 26,
   "id": "2a7b8ea6-51ea-45c9-8609-57517b59dc6b",
   "metadata": {},
   "outputs": [
    {
     "data": {
      "text/plain": [
       "{'irr_doys': [152,\n",
       "  153,\n",
       "  154,\n",
       "  155,\n",
       "  156,\n",
       "  157,\n",
       "  158,\n",
       "  159,\n",
       "  160,\n",
       "  161,\n",
       "  162,\n",
       "  163,\n",
       "  164,\n",
       "  165,\n",
       "  166,\n",
       "  167,\n",
       "  168,\n",
       "  169,\n",
       "  170,\n",
       "  171,\n",
       "  172,\n",
       "  173,\n",
       "  174,\n",
       "  175,\n",
       "  176,\n",
       "  177,\n",
       "  178,\n",
       "  179,\n",
       "  180,\n",
       "  181,\n",
       "  182,\n",
       "  183,\n",
       "  184,\n",
       "  185,\n",
       "  186,\n",
       "  187,\n",
       "  188,\n",
       "  189,\n",
       "  190,\n",
       "  191,\n",
       "  192,\n",
       "  224,\n",
       "  225,\n",
       "  226,\n",
       "  227,\n",
       "  228,\n",
       "  229,\n",
       "  230,\n",
       "  231,\n",
       "  232,\n",
       "  233,\n",
       "  234,\n",
       "  235,\n",
       "  236,\n",
       "  237,\n",
       "  238,\n",
       "  239,\n",
       "  241,\n",
       "  242,\n",
       "  243,\n",
       "  244,\n",
       "  245,\n",
       "  246,\n",
       "  247,\n",
       "  248,\n",
       "  249,\n",
       "  250,\n",
       "  251,\n",
       "  252,\n",
       "  253,\n",
       "  254,\n",
       "  255,\n",
       "  256,\n",
       "  257,\n",
       "  258,\n",
       "  259,\n",
       "  260,\n",
       "  261,\n",
       "  262,\n",
       "  263,\n",
       "  264,\n",
       "  265,\n",
       "  266,\n",
       "  267,\n",
       "  268,\n",
       "  269,\n",
       "  270,\n",
       "  271,\n",
       "  272,\n",
       "  273,\n",
       "  274,\n",
       "  275,\n",
       "  276,\n",
       "  277,\n",
       "  278,\n",
       "  289,\n",
       "  290,\n",
       "  291,\n",
       "  292,\n",
       "  293,\n",
       "  294,\n",
       "  295,\n",
       "  296,\n",
       "  297,\n",
       "  298],\n",
       " 'irrigated': 1,\n",
       " 'f_irr': 0.9912204566697824}"
      ]
     },
     "execution_count": 26,
     "metadata": {},
     "output_type": "execute_result"
    }
   ],
   "source": [
    "fields.input['irr_data']['043_000160']['2022']"
   ]
  },
  {
   "cell_type": "markdown",
   "id": "06c3ada2-34e0-4e34-8313-ba3f941719d9",
   "metadata": {},
   "source": [
    "To carry the time series of meteorology and remote sensing-based data, we have a dict of date/time series pairs, `time_series`. There is a list of values under each date for each parameter, the order of which is held in `order`."
   ]
  },
  {
   "cell_type": "code",
   "execution_count": 40,
   "id": "c9d18f66-3cde-4ad1-90fb-e319a7bdd325",
   "metadata": {},
   "outputs": [
    {
     "data": {
      "text/plain": [
       "['043_000160', '043_000148', '043_000716']"
      ]
     },
     "execution_count": 40,
     "metadata": {},
     "output_type": "execute_result"
    }
   ],
   "source": [
    "fields.input['order'][:3]"
   ]
  },
  {
   "cell_type": "code",
   "execution_count": 41,
   "id": "842f4426-0ae2-497a-9a60-c482d20e7e36",
   "metadata": {
    "scrolled": true
   },
   "outputs": [
    {
     "data": {
      "text/plain": [
       "[10.950012,\n",
       " 10.950012,\n",
       " 10.950012,\n",
       " 10.950012,\n",
       " 10.950012,\n",
       " 10.950012,\n",
       " 10.550018,\n",
       " 10.550018,\n",
       " 10.850006,\n",
       " 10.850006,\n",
       " 10.950012,\n",
       " 10.950012,\n",
       " 10.850006,\n",
       " 10.850006,\n",
       " 10.950012,\n",
       " 10.950012,\n",
       " 10.950012,\n",
       " 10.950012,\n",
       " 10.950012,\n",
       " 10.950012,\n",
       " 10.950012,\n",
       " 10.950012,\n",
       " 10.950012,\n",
       " 10.950012,\n",
       " 10.950012,\n",
       " 10.950012,\n",
       " 10.950012,\n",
       " 10.950012,\n",
       " 10.950012,\n",
       " 10.950012,\n",
       " 10.850006,\n",
       " 10.850006,\n",
       " 10.950012,\n",
       " 10.950012,\n",
       " 10.950012,\n",
       " 10.950012,\n",
       " 10.950012,\n",
       " 10.950012,\n",
       " 10.850006,\n",
       " 10.850006,\n",
       " 10.950012,\n",
       " 10.950012,\n",
       " 10.950012,\n",
       " 10.950012,\n",
       " 10.950012,\n",
       " 10.950012,\n",
       " 10.950012,\n",
       " 10.950012,\n",
       " 10.850006,\n",
       " 10.850006,\n",
       " 10.950012,\n",
       " 10.950012,\n",
       " 10.950012,\n",
       " 10.950012,\n",
       " 10.950012,\n",
       " 10.950012,\n",
       " 10.850006,\n",
       " 10.850006,\n",
       " 10.950012,\n",
       " 10.950012,\n",
       " 10.950012,\n",
       " 10.950012,\n",
       " 10.950012,\n",
       " 10.950012,\n",
       " 10.950012,\n",
       " 10.950012,\n",
       " 10.850006,\n",
       " 10.850006,\n",
       " 10.950012,\n",
       " 10.950012,\n",
       " 10.950012,\n",
       " 10.950012,\n",
       " 10.950012,\n",
       " 10.950012,\n",
       " 10.950012,\n",
       " 10.950012,\n",
       " 10.950012,\n",
       " 10.950012]"
      ]
     },
     "execution_count": 41,
     "metadata": {},
     "output_type": "execute_result"
    }
   ],
   "source": [
    "fields.input['time_series']['2022-07-31']['tmin_c']"
   ]
  },
  {
   "cell_type": "markdown",
   "id": "d4a08527-a49a-456c-a609-1c719619bc47",
   "metadata": {},
   "source": [
    "We don't really need to worry about it, but if we needed a specific field's minimum temperuature on January 3, 2019, we could find it:"
   ]
  },
  {
   "cell_type": "code",
   "execution_count": 38,
   "id": "c00d8fad-470b-4be9-9ae0-a52ee79be3ae",
   "metadata": {},
   "outputs": [
    {
     "data": {
      "text/plain": [
       "-7.350006"
      ]
     },
     "execution_count": 38,
     "metadata": {},
     "output_type": "execute_result"
    }
   ],
   "source": [
    "idx = fields.input['order'].index('043_000128')\n",
    "fields.input['time_series']['2019-01-03']['tmin_c'][idx]"
   ]
  },
  {
   "cell_type": "markdown",
   "id": "8b5e7cca-5d2e-4eba-8988-168a117275fd",
   "metadata": {},
   "source": [
    "# 3. The daily model run.\n",
    "\n",
    "Now we can run the model through time, using the data we've prepared. We use the function `obs_field_cycle` found in `model.etd`. The abbreviation `etd` stands for 'ET-Demands', the excellent project that SWIM started from as a fork. It is now almost unrecognizable from ET-Demands, but does maintain a similar structure in it's approach to stepping daily through time and executing a soil water balance in order.\n",
    "\n",
    "Check it out: https://github.com/WSWUP/et-demands."
   ]
  },
  {
   "cell_type": "markdown",
   "id": "1829ee33-fa9a-4500-9fd2-9f30af0bcdab",
   "metadata": {},
   "source": [
    "Here, we run the model and assign the output to our `SamplePlot` object (`fields`). Note the model output is a dict of Pandas DataFrame objects, one per field, each of which is a time series that runs daily over the date range specified in our configuration."
   ]
  },
  {
   "cell_type": "code",
   "execution_count": 43,
   "id": "c2f195e2-002e-4fe2-a2c0-24f158886d26",
   "metadata": {},
   "outputs": [],
   "source": [
    "from model.etd import obs_field_cycle\n",
    "\n",
    "fields.output = obs_field_cycle.field_day_loop(config, fields, debug_flag=True)"
   ]
  },
  {
   "cell_type": "markdown",
   "id": "e890abc9-e3e7-410f-baaf-a2ded43ad07c",
   "metadata": {},
   "source": []
  },
  {
   "cell_type": "code",
   "execution_count": 46,
   "id": "e972ab69-de44-40e1-a9eb-3b306f2d87b6",
   "metadata": {},
   "outputs": [
    {
     "data": {
      "text/plain": [
       "(6940, 36)"
      ]
     },
     "execution_count": 46,
     "metadata": {},
     "output_type": "execute_result"
    }
   ],
   "source": [
    "fields.output['043_000128'].shape"
   ]
  },
  {
   "cell_type": "code",
   "execution_count": null,
   "id": "dd5a590a-3e0f-4163-9369-12fd50f7b9d5",
   "metadata": {},
   "outputs": [],
   "source": []
  }
 ],
 "metadata": {
  "kernelspec": {
   "display_name": "Python 3 (ipykernel)",
   "language": "python",
   "name": "python3"
  },
  "language_info": {
   "codemirror_mode": {
    "name": "ipython",
    "version": 3
   },
   "file_extension": ".py",
   "mimetype": "text/x-python",
   "name": "python",
   "nbconvert_exporter": "python",
   "pygments_lexer": "ipython3",
   "version": "3.9.18"
  }
 },
 "nbformat": 4,
 "nbformat_minor": 5
}
